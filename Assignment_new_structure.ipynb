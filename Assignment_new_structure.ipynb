{
 "cells": [
  {
   "metadata": {},
   "cell_type": "markdown",
   "source": [
    "# COMP5328 - Advanced Machine Learning\n",
    "## Assignment 1: NMF Algorithms – Code\n",
    "\n",
    "---\n",
    "\n",
    "# 1. Import Libraries\n",
    "- 导入 numpy, scipy, matplotlib\n",
    "- （如果需要）导入 sklearn 用于评估指标\n",
    "- 设置随机种子，保证结果可复现\n",
    "\n",
    "---"
   ],
   "id": "74e63c82ad8301be"
  },
  {
   "metadata": {
    "ExecuteTime": {
     "end_time": "2025-09-25T12:43:09.842111Z",
     "start_time": "2025-09-25T12:43:09.831582Z"
    }
   },
   "cell_type": "code",
   "source": [
    "import numpy as np\n",
    "import matplotlib.pyplot as plt\n",
    "from fontTools.misc.cython import returns\n",
    "from imageio.core import Array\n",
    "from skimage.util import random_noise\n",
    "from sklearn.cluster import KMeans\n",
    "from sklearn.metrics import normalized_mutual_info_score, accuracy_score\n",
    "from scipy.optimize import linear_sum_assignment\n",
    "import os\n",
    "import numpy as np\n",
    "from PIL import Image\n",
    "import matplotlib.pyplot as plt\n"
   ],
   "id": "4fed950e5945520b",
   "outputs": [],
   "execution_count": 127
  },
  {
   "metadata": {},
   "cell_type": "markdown",
   "source": [
    "\n",
    "\n",
    "# 2. Load Datasets\n",
    "## 2.1 YaleB Dataset\n",
    "- 加载 ORL 图像数据\n",
    "- reshape 成矩阵 V\n",
    "- 归一化 (0-1)"
   ],
   "id": "2ac030013e0a511d"
  },
  {
   "metadata": {
    "ExecuteTime": {
     "end_time": "2025-09-25T12:43:10.662367Z",
     "start_time": "2025-09-25T12:43:09.866002Z"
    }
   },
   "cell_type": "code",
   "source": [
    "def load_data(root='data/CroppedYaleB', reduce=4):\n",
    "    images, labels = [], []\n",
    "    for i, person in enumerate(os.listdir(root)):\n",
    "        person_dir = os.path.join(root, person)\n",
    "        if not os.path.isdir(person_dir):\n",
    "            continue\n",
    "        for file_name in os.listdir(person_dir):\n",
    "            if file_name.endswith('Ambient.pgm'):\n",
    "                continue\n",
    "            if not file_name.endswith('.pgm'):\n",
    "                continue\n",
    "            img = Image.open(os.path.join(person_dir, file_name)).convert('L')\n",
    "            w, h = img.size\n",
    "            img_resized = img.resize([s//reduce for s in img.size])\n",
    "\n",
    "            # convert to np array\n",
    "            img_np = np.array(img_resized, dtype=np.uint8)\n",
    "\n",
    "            # preprocessing\n",
    "            # highlight the shadow\n",
    "\n",
    "            img_np = np.asarray(img_np, dtype=np.float32) / 255.0\n",
    "            gamma = 0.5\n",
    "            img_np = np.power(img_np, gamma)\n",
    "\n",
    "            img_flat = np.asarray(img_np).reshape((-1,1))\n",
    "\n",
    "            # collect data and label.\n",
    "            images.append(img_flat)\n",
    "            labels.append(i)\n",
    "\n",
    "\n",
    "    images = np.concatenate(images, axis=1)\n",
    "    labels = np.array(labels)\n",
    "    return images, labels\n",
    "\n",
    "images, labels = load_data()\n",
    "# the images have been scaled to 0, 1\n",
    "print(images[:, 0])\n",
    "# demonstrate the first 5 images.\n",
    "plt.figure(figsize=(10,10))\n",
    "for i in range(5):\n",
    "    img0 = images[:, i]\n",
    "    img0 = np.reshape(img0, (192//4, 168//4))\n",
    "    plt.subplot(1,5, i + 1)\n",
    "    plt.axis('off')\n",
    "    plt.imshow(img0, cmap='gray')\n",
    "\n",
    "\n",
    "plt.axis('off')\n",
    "plt.show()\n"
   ],
   "id": "6f61c3f8f50aec28",
   "outputs": [
    {
     "name": "stdout",
     "output_type": "stream",
     "text": [
      "[0.08856149 0.08856149 0.10846523 ... 0.71947694 0.73297673 0.70293504]\n"
     ]
    },
    {
     "data": {
      "text/plain": [
       "<Figure size 1000x1000 with 5 Axes>"
      ],
      "image/png": "[encoded data removed]"
     },
     "metadata": {},
     "output_type": "display_data",
     "jetTransient": {
      "display_id": null
     }
    }
   ],
   "execution_count": 128
  },
  {
   "metadata": {},
   "cell_type": "markdown",
   "source": "## 2.2 Load ORL Dataset",
   "id": "dc9aea612945b14f"
  },
  {
   "metadata": {
    "ExecuteTime": {
     "end_time": "2025-09-25T12:43:10.677983Z",
     "start_time": "2025-09-25T12:43:10.676775Z"
    }
   },
   "cell_type": "code",
   "source": "",
   "id": "7fec7678a02793a",
   "outputs": [],
   "execution_count": null
  },
  {
   "metadata": {},
   "cell_type": "markdown",
   "source": [
    "\n",
    "# 3. Noise Generation\n",
    "## 3.1 Salt & Pepper Noise"
   ],
   "id": "5f72e1ab22861d5d"
  },
  {
   "metadata": {
    "ExecuteTime": {
     "end_time": "2025-09-25T12:43:10.845844Z",
     "start_time": "2025-09-25T12:43:10.681865Z"
    }
   },
   "cell_type": "code",
   "source": [
    "# Adding salt and pepper noise\n",
    "def aad_salt_pepper_noise(imgs: np.ndarray, p = 0.1, r = 0.5):\n",
    "    noisy_img = np.copy(imgs)\n",
    "    for i in range(noisy_img.shape[1]):\n",
    "        length = noisy_img.shape[0]\n",
    "\n",
    "        # noisy_img = img.copy()\n",
    "        # height, weight = img.shape\n",
    "        # pixels_cnt = height * weight\n",
    "\n",
    "        # the count of noisy\n",
    "        noisy_cnt = int(p * length)\n",
    "\n",
    "        # choosing the pixels randomly\n",
    "        coordinates = np.random.choice(length, size=noisy_cnt, replace=False)\n",
    "\n",
    "        # setting the salt\n",
    "        salt_cnt = int(r * noisy_cnt)\n",
    "        salt_idx = coordinates[:salt_cnt]\n",
    "        noisy_img[salt_idx, i] = noisy_img[:, i].max()\n",
    "\n",
    "        pepper_cnt = coordinates[salt_cnt:]\n",
    "        noisy_img[pepper_cnt, i] = noisy_img[:, i].min()\n",
    "\n",
    "    return noisy_img\n",
    "\n",
    "# adding noisy to all the images\n",
    "noisy_img = aad_salt_pepper_noise(images, 0.1, 0.5)\n",
    "\n",
    "# visualization\n",
    "n = 5\n",
    "h, w = (192//4, 168//4)\n",
    "plt.figure(figsize=(8,4))\n",
    "for i in range(n):\n",
    "    # clean\n",
    "    clean = images[:, i + 5].reshape(h, w)\n",
    "    ax1 = plt.subplot(2, n, i + 1)\n",
    "    ax1.imshow(clean, cmap='gray')\n",
    "    ax1.axis('off')\n",
    "    if i == 0:\n",
    "        plt.ylabel(\"Clean\", fontsize=12)\n",
    "\n",
    "    # after adding noisy\n",
    "    noisy = noisy_img[:, i + 5].reshape(h, w)\n",
    "    plt.subplot(2, n, n + i + 1)\n",
    "    plt.imshow(noisy, cmap='gray')\n",
    "    plt.axis('off')\n",
    "    if i == 0:\n",
    "        plt.ylabel(\"Noisy\", fontsize=12)\n",
    "\n",
    "plt.tight_layout()\n",
    "plt.show()"
   ],
   "id": "eaaf92ec4f6d7c8",
   "outputs": [
    {
     "data": {
      "text/plain": [
       "<Figure size 800x400 with 10 Axes>"
      ],
      "image/png": "[encoded data removed]"
     },
     "metadata": {},
     "output_type": "display_data",
     "jetTransient": {
      "display_id": null
     }
    }
   ],
   "execution_count": 129
  },
  {
   "metadata": {},
   "cell_type": "markdown",
   "source": "## 3.2 Custom Noise\n",
   "id": "4916dd4546975523"
  },
  {
   "metadata": {},
   "cell_type": "markdown",
   "source": [
    "\n",
    "# 4. NMF Algorithms Implementation (Core)\n",
    "## 4.1 Standard NMF (Baseline)\n",
    "- 目标函数：L2 范数\n",
    "- 优化方法：乘法更新规则 (MU) 或交替最小二乘 (ALS)\n",
    "- 函数：`nmf_standard(V, rank, max_iter)`"
   ],
   "id": "2dd876c4407eb353"
  },
  {
   "metadata": {
    "ExecuteTime": {
     "end_time": "2025-09-25T13:08:07.542061Z",
     "start_time": "2025-09-25T13:08:07.534Z"
    }
   },
   "cell_type": "code",
   "source": [
    "# The standard NMF algorithm\n",
    "def nmf_standard(V, rank = 40, max_iter = 200, tol = 1e-4, seed = 0, verbose = True):\n",
    "    np.random.seed(seed)\n",
    "    m, n = V.shape\n",
    "    W = np.random.rand(m, rank)\n",
    "    H = np.random.rand(rank, n)\n",
    "\n",
    "    # store the loss to draw the variance of loss\n",
    "    loss_history = []\n",
    "\n",
    "    # prevent to divide 0\n",
    "    eps = 1e-9\n",
    "\n",
    "    for it in range(max_iter):\n",
    "        # update H\n",
    "        H = H * (W.T @ V) / (W.T @ W @ H + eps)\n",
    "        # update W\n",
    "        W = W * (V @ H.T) / (W @ H @ H.T + eps)\n",
    "        V_hat = W @ H\n",
    "\n",
    "        loss = np.linalg.norm(V - V_hat, 'fro')\n",
    "        loss_history.append(loss)\n",
    "\n",
    "        if verbose and it % 50 == 0:\n",
    "            print(f'iter = {it}, loss = {loss:.4f}')\n",
    "\n",
    "        # if there is no change in new iter pause the training\n",
    "        if it > 1 and abs(loss_history[-2] -loss) < tol:\n",
    "            break\n",
    "\n",
    "    return W, H, loss_history\n"
   ],
   "id": "cda2afedcdfc408d",
   "outputs": [],
   "execution_count": 144
  },
  {
   "metadata": {},
   "cell_type": "markdown",
   "source": [
    "\n",
    "## 4.2 Robust NMF (L1 / L2,1 Variant)\n",
    "- 目标函数：L1 或 L2,1 范数\n",
    "- 优化方法：子梯度 / 加权更新\n",
    "- 函数：`nmf_robust(V, rank, max_iter)`\n",
    "\n",
    "---"
   ],
   "id": "40680d424fbf2517"
  },
  {
   "metadata": {},
   "cell_type": "markdown",
   "source": [
    "\n",
    "# 5. Evaluation Metrics\n",
    "## 5.1 Relative Reconstruction Error (RRE)"
   ],
   "id": "1001b2c31b664b20"
  },
  {
   "metadata": {
    "ExecuteTime": {
     "end_time": "2025-09-25T12:43:10.860514Z",
     "start_time": "2025-09-25T12:43:10.858470Z"
    }
   },
   "cell_type": "code",
   "source": [
    "def compute_ree(V, W, H):\n",
    "    V_hat = W @ H\n",
    "    return np.linalg.norm(V - V_hat, 'fro') / np.linalg.norm(V, 'fro')"
   ],
   "id": "53d1dcc28407a081",
   "outputs": [],
   "execution_count": 131
  },
  {
   "metadata": {},
   "cell_type": "markdown",
   "source": [
    "## 5.2 Accuracy (Optional)\n",
    "- 使用 KMeans 聚类\n",
    "- 计算聚类标签 vs 真实标签\n",
    "- 函数：`compute_accuracy(Y_true, Y_pred)`"
   ],
   "id": "d29f98b7b94bbeea"
  },
  {
   "metadata": {
    "ExecuteTime": {
     "end_time": "2025-09-25T12:43:10.866177Z",
     "start_time": "2025-09-25T12:43:10.863736Z"
    }
   },
   "cell_type": "code",
   "source": [
    "# Compute accuracy by K-means\n",
    "def compute_acc(Y: np.ndarray, H, n_clusters):\n",
    "    km = KMeans(n_clusters=n_clusters, random_state=0).fit(H.T)\n",
    "    Y_pred = km.labels_\n",
    "    # Hungarian\n",
    "    D = max(Y_pred.max(), Y.max()) + 1\n",
    "    cost = np.zeros((D, D))\n",
    "    for i in range(len(Y_pred)):\n",
    "        # calculate how many labels are matched\n",
    "        cost[Y_pred[i], Y[i]] += 1\n",
    "    row, col = linear_sum_assignment(cost.max() - cost)\n",
    "    return sum(cost[i, j] for i, j in zip(row, col)) / len(Y_pred)"
   ],
   "id": "e0db570acab8c23",
   "outputs": [],
   "execution_count": 132
  },
  {
   "metadata": {},
   "cell_type": "markdown",
   "source": [
    "## 5.3 Normalized Mutual Information (Optional)\n",
    "- 使用 sklearn.metrics\n",
    "- 函数：`compute_nmi(Y_true, Y_pred)`\n",
    "\n",
    "---"
   ],
   "id": "241a7548d810bde"
  },
  {
   "metadata": {},
   "cell_type": "markdown",
   "source": [
    "\n",
    "# 6. Experiments\n",
    "## 6.1 Run NMF on ORL Dataset\n",
    "- 在 ORL 数据集上分别跑标准 NMF 和鲁棒 NMF\n",
    "- 保存结果"
   ],
   "id": "53825371a95e9bc2"
  },
  {
   "metadata": {
    "ExecuteTime": {
     "end_time": "2025-09-25T12:43:10.870560Z",
     "start_time": "2025-09-25T12:43:10.869011Z"
    }
   },
   "cell_type": "code",
   "source": "",
   "id": "51b24ade255072cb",
   "outputs": [],
   "execution_count": null
  },
  {
   "metadata": {},
   "cell_type": "markdown",
   "source": [
    "\n",
    "## 6.2 Run NMF on YaleB Dataset\n",
    "- 在 YaleB 数据集上分别跑标准 NMF 和鲁棒 NMF\n",
    "- 保存结果"
   ],
   "id": "711e8095244141e4"
  },
  {
   "metadata": {
    "ExecuteTime": {
     "end_time": "2025-09-25T13:08:22.742264Z",
     "start_time": "2025-09-25T13:08:11.834502Z"
    }
   },
   "cell_type": "code",
   "source": [
    "# run the NMF algorithm on the YaleB\n",
    "result = nmf_standard(images,max_iter=200)\n",
    "compute_ree(images, result[0], result[1])"
   ],
   "id": "585018ba6fe9160d",
   "outputs": [
    {
     "name": "stdout",
     "output_type": "stream",
     "text": [
      "iter = 0, loss = 440.3535\n",
      "iter = 50, loss = 218.0645\n",
      "iter = 100, loss = 182.2668\n",
      "iter = 150, loss = 163.0320\n"
     ]
    },
    {
     "data": {
      "text/plain": [
       "np.float64(0.13352623089651613)"
      ]
     },
     "execution_count": 145,
     "metadata": {},
     "output_type": "execute_result"
    }
   ],
   "execution_count": 145
  },
  {
   "metadata": {},
   "cell_type": "markdown",
   "source": [
    "\n",
    "## 6.3 Run with Different Noise Levels (p, r)\n",
    "- 实验参数：p = 0.2, 0.4, 0.6; r = 0.3, 0.7\n",
    "- 循环运行，重复 5 次取均值和标准差\n",
    "- 存储结果为表格\n",
    "\n",
    "---"
   ],
   "id": "3a970f750e23edef"
  },
  {
   "metadata": {},
   "cell_type": "markdown",
   "source": [
    "\n",
    "# 7. Results\n",
    "## 7.1 Visualization of Original vs Noisy Images\n",
    "- 绘制原始图像 + 噪声图像对比\n",
    "\n",
    "## 7.2 Reconstruction Examples\n",
    "- 展示重构前后图像（标准 NMF vs 鲁棒 NMF）\n",
    "\n",
    "## 7.3 Quantitative Results (Tables & Graphs)\n",
    "- RRE 对比表格\n",
    "- Accuracy/NMI 曲线\n",
    "- 不同噪声水平下的对比柱状图"
   ],
   "id": "630b7cc65932d090"
  }
 ],
 "metadata": {
  "kernelspec": {
   "display_name": "Python 3",
   "language": "python",
   "name": "python3"
  },
  "language_info": {
   "codemirror_mode": {
    "name": "ipython",
    "version": 2
   },
   "file_extension": ".py",
   "mimetype": "text/x-python",
   "name": "python",
   "nbconvert_exporter": "python",
   "pygments_lexer": "ipython2",
   "version": "2.7.6"
  }
 },
 "nbformat": 4,
 "nbformat_minor": 5
}
