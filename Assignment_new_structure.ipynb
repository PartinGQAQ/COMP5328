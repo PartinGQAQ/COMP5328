{
 "cells": [
  {
   "metadata": {},
   "cell_type": "markdown",
   "source": [
    "# COMP5328 - Advanced Machine Learning\n",
    "## Assignment 1: NMF Algorithms – Code\n",
    "\n",
    "---\n",
    "\n",
    "# 1. Import Libraries\n",
    "- 导入 numpy, scipy, matplotlib\n",
    "- （如果需要）导入 sklearn 用于评估指标\n",
    "- 设置随机种子，保证结果可复现\n",
    "\n",
    "---"
   ],
   "id": "74e63c82ad8301be"
  },
  {
   "metadata": {},
   "cell_type": "code",
   "outputs": [],
   "execution_count": null,
   "source": "import numpy as np",
   "id": "4fed950e5945520b"
  },
  {
   "metadata": {},
   "cell_type": "markdown",
   "source": [
    "\n",
    "\n",
    "# 2. Load Datasets\n",
    "## 2.1 ORL Dataset\n",
    "- 加载 ORL 图像数据\n",
    "- reshape 成矩阵 V\n",
    "- 归一化 (0-1)\n",
    "\n",
    "## 2.2 Extended YaleB Dataset\n",
    "- 加载 YaleB 图像数据\n",
    "- reshape 成矩阵 V\n",
    "- 归一化 (0-1)\n",
    "\n",
    "---"
   ],
   "id": "2ac030013e0a511d"
  },
  {
   "metadata": {},
   "cell_type": "markdown",
   "source": [
    "\n",
    "# 3. Noise Generation\n",
    "## 3.1 Salt & Pepper Noise\n",
    "- 函数：`add_salt_pepper_noise(image, p, r)`\n",
    "- 参数 p = 噪声比例, r = 白色比例\n",
    "- 返回加噪图像\n",
    "\n",
    "## 3.2 Custom Noise\n",
    "- 可选：高斯噪声 / 遮挡噪声\n",
    "- 说明使用场景\n",
    "\n",
    "---"
   ],
   "id": "5f72e1ab22861d5d"
  },
  {
   "metadata": {},
   "cell_type": "markdown",
   "source": [
    "\n",
    "# 4. NMF Algorithms Implementation (Core)\n",
    "## 4.1 Standard NMF (Baseline)\n",
    "- 目标函数：L2 范数\n",
    "- 优化方法：乘法更新规则 (MU) 或交替最小二乘 (ALS)\n",
    "- 函数：`nmf_standard(V, rank, max_iter)`\n",
    "\n",
    "## 4.2 Robust NMF (L1 / L2,1 Variant)\n",
    "- 目标函数：L1 或 L2,1 范数\n",
    "- 优化方法：子梯度 / 加权更新\n",
    "- 函数：`nmf_robust(V, rank, max_iter)`\n",
    "\n",
    "---"
   ],
   "id": "2dd876c4407eb353"
  },
  {
   "metadata": {},
   "cell_type": "markdown",
   "source": [
    "\n",
    "# 5. Evaluation Metrics\n",
    "## 5.1 Relative Reconstruction Error (RRE)\n",
    "- 函数：`compute_rre(V_clean, W, H)`\n",
    "\n",
    "## 5.2 Accuracy (Optional)\n",
    "- 使用 KMeans 聚类\n",
    "- 计算聚类标签 vs 真实标签\n",
    "- 函数：`compute_accuracy(Y_true, Y_pred)`\n",
    "\n",
    "## 5.3 Normalized Mutual Information (Optional)\n",
    "- 使用 sklearn.metrics\n",
    "- 函数：`compute_nmi(Y_true, Y_pred)`\n",
    "\n",
    "---"
   ],
   "id": "1001b2c31b664b20"
  },
  {
   "metadata": {},
   "cell_type": "markdown",
   "source": [
    "\n",
    "# 6. Experiments\n",
    "## 6.1 Run NMF on ORL Dataset\n",
    "- 在 ORL 数据集上分别跑标准 NMF 和鲁棒 NMF\n",
    "- 保存结果\n",
    "\n",
    "## 6.2 Run NMF on YaleB Dataset\n",
    "- 在 YaleB 数据集上分别跑标准 NMF 和鲁棒 NMF\n",
    "- 保存结果\n",
    "\n",
    "## 6.3 Run with Different Noise Levels (p, r)\n",
    "- 实验参数：p = 0.2, 0.4, 0.6; r = 0.3, 0.7\n",
    "- 循环运行，重复 5 次取均值和标准差\n",
    "- 存储结果为表格\n",
    "\n",
    "---"
   ],
   "id": "53825371a95e9bc2"
  },
  {
   "metadata": {},
   "cell_type": "markdown",
   "source": [
    "\n",
    "# 7. Results\n",
    "## 7.1 Visualization of Original vs Noisy Images\n",
    "- 绘制原始图像 + 噪声图像对比\n",
    "\n",
    "## 7.2 Reconstruction Examples\n",
    "- 展示重构前后图像（标准 NMF vs 鲁棒 NMF）\n",
    "\n",
    "## 7.3 Quantitative Results (Tables & Graphs)\n",
    "- RRE 对比表格\n",
    "- Accuracy/NMI 曲线\n",
    "- 不同噪声水平下的对比柱状图"
   ],
   "id": "630b7cc65932d090"
  }
 ],
 "metadata": {
  "kernelspec": {
   "display_name": "Python 3",
   "language": "python",
   "name": "python3"
  },
  "language_info": {
   "codemirror_mode": {
    "name": "ipython",
    "version": 2
   },
   "file_extension": ".py",
   "mimetype": "text/x-python",
   "name": "python",
   "nbconvert_exporter": "python",
   "pygments_lexer": "ipython2",
   "version": "2.7.6"
  }
 },
 "nbformat": 4,
 "nbformat_minor": 5
}
