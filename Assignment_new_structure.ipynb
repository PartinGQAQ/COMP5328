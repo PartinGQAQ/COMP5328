{
 "cells": [
  {
   "metadata": {},
   "cell_type": "markdown",
   "source": [
    "# COMP5328 - Advanced Machine Learning\n",
    "## Assignment 1: NMF Algorithms – Code\n",
    "\n",
    "---\n",
    "\n",
    "# 1. Import Libraries\n",
    "- 导入 numpy, scipy, matplotlib\n",
    "- （如果需要）导入 sklearn 用于评估指标\n",
    "- 设置随机种子，保证结果可复现\n",
    "\n",
    "---"
   ],
   "id": "74e63c82ad8301be"
  },
  {
   "metadata": {},
   "cell_type": "code",
   "outputs": [],
   "execution_count": null,
   "source": [
    "import numpy as np\n",
    "import matplotlib.pyplot as plt\n",
    "from skimage.util import random_noise\n",
    "from PIL import Image"
   ],
   "id": "4fed950e5945520b"
  },
  {
   "metadata": {},
   "cell_type": "markdown",
   "source": [
    "\n",
    "\n",
    "# 2. Load Datasets\n",
    "## 2.1 YaleB Dataset\n",
    "- 加载 ORL 图像数据\n",
    "- reshape 成矩阵 V\n",
    "- 归一化 (0-1)"
   ],
   "id": "2ac030013e0a511d"
  },
  {
   "metadata": {
    "ExecuteTime": {
     "end_time": "2025-09-24T11:04:33.319033Z",
     "start_time": "2025-09-24T11:04:32.308563Z"
    }
   },
   "cell_type": "code",
   "source": [
    "import os\n",
    "import numpy as np\n",
    "from PIL import Image\n",
    "\n",
    "def load_data(root='data/CroppedYaleB', reduce=4):\n",
    "    \"\"\"\n",
    "    Load ORL (or Extended YaleB) dataset to numpy array.\n",
    "\n",
    "    Args:\n",
    "        root: path to dataset.\n",
    "        reduce: scale factor for zooming out images.\n",
    "\n",
    "    \"\"\"\n",
    "    images, labels = [], []\n",
    "\n",
    "    for i, person in enumerate(sorted(os.listdir(root))):\n",
    "\n",
    "        if not os.path.isdir(os.path.join(root, person)):\n",
    "            continue\n",
    "        # Is the file is dir\n",
    "        for fname in os.listdir(os.path.join(root, person)):\n",
    "\n",
    "            # Remove background images in Extended YaleB dataset.\n",
    "            if fname.endswith('Ambient.pgm'):\n",
    "                continue\n",
    "            # the end must be .pgm\n",
    "            if not fname.endswith('.pgm'):\n",
    "                continue\n",
    "\n",
    "            # load image.\n",
    "            img = Image.open(os.path.join(root, person, fname))\n",
    "            img = img.convert('L') # grey image.\n",
    "\n",
    "            # reduce computation complexity.\n",
    "            # every size are divided by reduce\n",
    "            img = img.resize([s//reduce for s in img.size])\n",
    "\n",
    "            # normalize the pixel\n",
    "            arr = np.asarray(img, dtype=np.float32) / 255.0\n",
    "            arr = (arr - arr.mean()) / arr.std()\n",
    "\n",
    "            # convert image to numpy array.\n",
    "            img = np.asarray(arr).reshape((-1,1))\n",
    "            # collect data and label.\n",
    "            images.append(img)\n",
    "            labels.append(i)\n",
    "    # concate all images and labels.\n",
    "    images = np.concatenate(images, axis=1)\n",
    "    labels = np.array(labels)\n",
    "\n",
    "    return images, labels\n",
    "\n",
    "load_data(\"./data/CroppedYaleB\", reduce=4)\n",
    "images, labels = load_data(\"./data/CroppedYaleB\")\n",
    "labels"
   ],
   "id": "6f61c3f8f50aec28",
   "outputs": [
    {
     "data": {
      "text/plain": [
       "array([ 0,  0,  0, ..., 37, 37, 37])"
      ]
     },
     "execution_count": 3,
     "metadata": {},
     "output_type": "execute_result"
    }
   ],
   "execution_count": 3
  },
  {
   "metadata": {},
   "cell_type": "markdown",
   "source": "## 2.2 Load ORL Dataset",
   "id": "dc9aea612945b14f"
  },
  {
   "metadata": {},
   "cell_type": "code",
   "outputs": [],
   "execution_count": null,
   "source": [
    "def load_data_AR(root='data/CroppedAR', reduce=3):\n",
    "    \"\"\"\n",
    "    Load AR dataset to numpy array.\n",
    "\n",
    "    Args:\n",
    "        root: path to AR dataset.\n",
    "        reduce: scale factor for zooming out images.\n",
    "\n",
    "    \"\"\"\n",
    "    images, labels = [], []\n",
    "\n",
    "    for fname in os.listdir(root):\n",
    "\n",
    "        if not fname.endswith('.bmp'):\n",
    "            continue\n",
    "\n",
    "        # get label.\n",
    "        label = int(fname[2:5])\n",
    "        if fname[0] == 'W': # start from 50\n",
    "            label += 50\n",
    "\n",
    "        # load image.\n",
    "        img = Image.open(os.path.join(root, fname))\n",
    "        img = img.convert('L') # grey\n",
    "\n",
    "        # reduce computation complexity.\n",
    "        img = img.resize([s//reduce for s in img.size])\n",
    "\n",
    "        # TODO: preprocessing.\n",
    "        # normalize the pixel, reducing the the influence from light\n",
    "        arr = np.asarray(img, dtype=np.float32) / 255.0\n",
    "        arr = (arr - arr.mean()) / arr.std()\n",
    "\n",
    "\n",
    "        # convert image to numpy array.\n",
    "        img = np.asarray(img).reshape((-1,1))\n",
    "\n",
    "        # collect data and label.\n",
    "        images.append(img)\n",
    "        labels.append(label)\n",
    "\n",
    "    # concate all images and labels.\n",
    "    images = np.concatenate(images, axis=1)\n",
    "    labels = np.array(labels)\n",
    "\n",
    "    return images, labels"
   ],
   "id": "7fec7678a02793a"
  },
  {
   "metadata": {},
   "cell_type": "markdown",
   "source": [
    "\n",
    "# 3. Noise Generation\n",
    "## 3.1 Salt & Pepper Noise"
   ],
   "id": "5f72e1ab22861d5d"
  },
  {
   "metadata": {},
   "cell_type": "code",
   "outputs": [],
   "execution_count": null,
   "source": [
    "# Adding salt and pepper noise\n",
    "def aad_salt_pepper_noise(img, p = 0.1, r = 0.5):\n",
    "    noisy_img = img.copy()\n",
    "    height, weight = img.shape\n",
    "    pixels_cnt = height * weight\n",
    "    # the count of noisy\n",
    "    noisy_cnt = int(p * pixels_cnt)\n",
    "\n",
    "    # choosing the pixels randomly\n",
    "    coordinates = np.random.choice(pixels_cnt, size=noisy_cnt, replace=False)\n",
    "\n",
    "    salt_cnt = int(r * noisy_cnt)\n",
    "    salt_idx = coordinates[:salt_cnt]\n",
    "    noisy_img.reshape(-1)[salt_idx] = noisy_img.max() if noisy_img.max() > 1 else 1.0\n",
    "\n",
    "    pepper_cnt = coordinates[salt_cnt:]\n",
    "    noisy_img.reshape(-1)[pepper_cnt] = noisy_img.min()\n",
    "\n",
    "    return noisy_img"
   ],
   "id": "eaaf92ec4f6d7c8"
  },
  {
   "metadata": {},
   "cell_type": "markdown",
   "source": "## 3.2 Custom Noise\n",
   "id": "4916dd4546975523"
  },
  {
   "metadata": {},
   "cell_type": "markdown",
   "source": [
    "\n",
    "# 4. NMF Algorithms Implementation (Core)\n",
    "## 4.1 Standard NMF (Baseline)\n",
    "- 目标函数：L2 范数\n",
    "- 优化方法：乘法更新规则 (MU) 或交替最小二乘 (ALS)\n",
    "- 函数：`nmf_standard(V, rank, max_iter)`\n",
    "\n",
    "## 4.2 Robust NMF (L1 / L2,1 Variant)\n",
    "- 目标函数：L1 或 L2,1 范数\n",
    "- 优化方法：子梯度 / 加权更新\n",
    "- 函数：`nmf_robust(V, rank, max_iter)`\n",
    "\n",
    "---"
   ],
   "id": "2dd876c4407eb353"
  },
  {
   "metadata": {},
   "cell_type": "markdown",
   "source": [
    "\n",
    "# 5. Evaluation Metrics\n",
    "## 5.1 Relative Reconstruction Error (RRE)\n",
    "- 函数：`compute_rre(V_clean, W, H)`\n",
    "\n",
    "## 5.2 Accuracy (Optional)\n",
    "- 使用 KMeans 聚类\n",
    "- 计算聚类标签 vs 真实标签\n",
    "- 函数：`compute_accuracy(Y_true, Y_pred)`\n",
    "\n",
    "## 5.3 Normalized Mutual Information (Optional)\n",
    "- 使用 sklearn.metrics\n",
    "- 函数：`compute_nmi(Y_true, Y_pred)`\n",
    "\n",
    "---"
   ],
   "id": "1001b2c31b664b20"
  },
  {
   "metadata": {},
   "cell_type": "markdown",
   "source": [
    "\n",
    "# 6. Experiments\n",
    "## 6.1 Run NMF on ORL Dataset\n",
    "- 在 ORL 数据集上分别跑标准 NMF 和鲁棒 NMF\n",
    "- 保存结果\n",
    "\n",
    "## 6.2 Run NMF on YaleB Dataset\n",
    "- 在 YaleB 数据集上分别跑标准 NMF 和鲁棒 NMF\n",
    "- 保存结果\n",
    "\n",
    "## 6.3 Run with Different Noise Levels (p, r)\n",
    "- 实验参数：p = 0.2, 0.4, 0.6; r = 0.3, 0.7\n",
    "- 循环运行，重复 5 次取均值和标准差\n",
    "- 存储结果为表格\n",
    "\n",
    "---"
   ],
   "id": "53825371a95e9bc2"
  },
  {
   "metadata": {},
   "cell_type": "markdown",
   "source": [
    "\n",
    "# 7. Results\n",
    "## 7.1 Visualization of Original vs Noisy Images\n",
    "- 绘制原始图像 + 噪声图像对比\n",
    "\n",
    "## 7.2 Reconstruction Examples\n",
    "- 展示重构前后图像（标准 NMF vs 鲁棒 NMF）\n",
    "\n",
    "## 7.3 Quantitative Results (Tables & Graphs)\n",
    "- RRE 对比表格\n",
    "- Accuracy/NMI 曲线\n",
    "- 不同噪声水平下的对比柱状图"
   ],
   "id": "630b7cc65932d090"
  }
 ],
 "metadata": {
  "kernelspec": {
   "display_name": "Python 3",
   "language": "python",
   "name": "python3"
  },
  "language_info": {
   "codemirror_mode": {
    "name": "ipython",
    "version": 2
   },
   "file_extension": ".py",
   "mimetype": "text/x-python",
   "name": "python",
   "nbconvert_exporter": "python",
   "pygments_lexer": "ipython2",
   "version": "2.7.6"
  }
 },
 "nbformat": 4,
 "nbformat_minor": 5
}
