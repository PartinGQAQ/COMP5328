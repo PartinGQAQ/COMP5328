{
 "cells": [
  {
   "cell_type": "markdown",
   "metadata": {
    "colab_type": "text",
    "id": "-2_csPaHpQXz"
   },
   "source": [
    "# COMP4328/5328/8328 - Advanced Machine Learning"
   ]
  },
  {
   "cell_type": "markdown",
   "metadata": {
    "colab_type": "text",
    "id": "NdjZ2IUKpQX3"
   },
   "source": [
    "## Tutorial 3 - Convex Optimization"
   ]
  },
  {
   "cell_type": "markdown",
   "metadata": {
    "colab_type": "text",
    "id": "f7QUnaihpQX6"
   },
   "source": [
    "**Semester 2, 2025**\n",
    "\n",
    "**Objectives:**\n",
    "\n",
    "* To implement the linear regression.\n",
    "* To implement the linear logistic regression.\n",
    "\n",
    "**Instructions:**\n",
    "* Exercises to be completed on IPython notebook such as: \n",
    "   * Ipython 3 (Jupyter) notebook installed on your computer http://jupyter.org/install (you need to have Python installed first https://docs.python.org/3/using/index.html )\n",
    "   * Web-based Ipython notebooks such as Google Colaboratory https://colab.research.google.com/ \n",
    "   \n",
    "* If you are using Jupyter intalled on your computer, Go to File->Open. Drag and drop \"lab1.ipynb\" file to the home interface and click upload. \n",
    "* If you are using Google Colaboratory, Click File->Upload notebook, and and upload \"lab1.ipynb\" file\n",
    "* Complete exercises in \"tutorial1_2.ipynb\".\n",
    "* To run the cell you can press Ctrl-Enter or hit the Play button at the top.\n",
    "* Complete all exercises marked with **TODO**.\n",
    "* Save your file when you are done with the exercises, so you can show your tutor next week.\n",
    "\n",
    "Lecturers: Tongliang Liu"
   ]
  },
  {
   "cell_type": "markdown",
   "metadata": {
    "colab_type": "text",
    "id": "njtk4TzBpQbe"
   },
   "source": [
    "## 1. Linear Regression\n",
    "\n",
    "* The topic is assumed known (COMP5318). More details can be found at Wiki: https://en.wikipedia.org/wiki/Linear_regression."
   ]
  },
  {
   "cell_type": "markdown",
   "metadata": {
    "colab_type": "text",
    "id": "HQoDzhN5pQbf"
   },
   "source": [
    "**Advertising Example:**\n",
    "* Let $X$ and $Y$ be the variables of TV advertising budget and product sales, respectively. $\\{(x_1,y_1),\\cdots,(x_n,y_n)\\}$ be $n$ observation pairs.\n",
    "* Our target is to estimate a function $f$ such that $f(X)$ can predict the sale $Y$ well.\n",
    "* The most common approach involves minimizing the least squares criterion."
   ]
  },
  {
   "cell_type": "markdown",
   "metadata": {
    "colab_type": "text",
    "id": "Jwk5V_CupQbg"
   },
   "source": [
    "### 1.1 Load Advertising Data"
   ]
  },
  {
   "cell_type": "code",
   "metadata": {
    "colab": {},
    "colab_type": "code",
    "id": "aU-vCPcdpQbg",
    "outputId": "d4bc53fc-9012-4880-87b1-8e805344c137",
    "ExecuteTime": {
     "end_time": "2025-08-19T01:55:49.635202Z",
     "start_time": "2025-08-19T01:55:48.399034Z"
    }
   },
   "source": [
    "# Note that: csv is a library for reading and writing csv files\n",
    "# matplotlib is a Python 2D plotting library, which can be easily installed by \"pip install matplotlib\".\n",
    "import csv\n",
    "import matplotlib.pyplot as plt\n",
    "import pandas as pd\n",
    "from numpy.ma.core import minimum\n",
    "\n",
    "# load data in csv file\n",
    "budget = []\n",
    "sales = []\n",
    "with open('./data/Advertising.csv') as f:\n",
    "    reader = csv.reader(f)\n",
    "    for row in reader:\n",
    "        budget.append(row[1])\n",
    "        sales.append(row[-1])\n",
    "\n",
    "# The data starts from index 1\n",
    "budget = budget[1:]\n",
    "sales = sales[1:]\n",
    "\n",
    "# Convert strings to float values\n",
    "budget = [float(item) for item in budget]\n",
    "sales = [float(item) for item in sales]\n",
    "\n",
    "# Visualize the data\n",
    "plt.plot(budget,sales,'ro')\n",
    "plt.xlabel('Advertising budget')\n",
    "plt.ylabel('Sales')\n",
    "plt.show()"
   ],
   "outputs": [
    {
     "data": {
      "text/plain": [
       "<Figure size 640x480 with 1 Axes>"
      ],
      "image/png": "[encoded data removed]"
     },
     "metadata": {},
     "output_type": "display_data"
    }
   ],
   "execution_count": 2
  },
  {
   "metadata": {
    "ExecuteTime": {
     "end_time": "2025-08-19T01:55:49.671998Z",
     "start_time": "2025-08-19T01:55:49.653290Z"
    }
   },
   "cell_type": "code",
   "source": [
    "df_ad = pd.read_csv('./data/Advertising.csv')\n",
    "df_ad"
   ],
   "outputs": [
    {
     "data": {
      "text/plain": [
       "     Unnamed: 0     TV  radio  newspaper  sales\n",
       "0             1  230.1   37.8       69.2   22.1\n",
       "1             2   44.5   39.3       45.1   10.4\n",
       "2             3   17.2   45.9       69.3    9.3\n",
       "3             4  151.5   41.3       58.5   18.5\n",
       "4             5  180.8   10.8       58.4   12.9\n",
       "..          ...    ...    ...        ...    ...\n",
       "195         196   38.2    3.7       13.8    7.6\n",
       "196         197   94.2    4.9        8.1    9.7\n",
       "197         198  177.0    9.3        6.4   12.8\n",
       "198         199  283.6   42.0       66.2   25.5\n",
       "199         200  232.1    8.6        8.7   13.4\n",
       "\n",
       "[200 rows x 5 columns]"
      ],
      "text/html": [
       "<div>\n",
       "<style scoped>\n",
       "    .dataframe tbody tr th:only-of-type {\n",
       "        vertical-align: middle;\n",
       "    }\n",
       "\n",
       "    .dataframe tbody tr th {\n",
       "        vertical-align: top;\n",
       "    }\n",
       "\n",
       "    .dataframe thead th {\n",
       "        text-align: right;\n",
       "    }\n",
       "</style>\n",
       "<table border=\"1\" class=\"dataframe\">\n",
       "  <thead>\n",
       "    <tr style=\"text-align: right;\">\n",
       "      <th></th>\n",
       "      <th>Unnamed: 0</th>\n",
       "      <th>TV</th>\n",
       "      <th>radio</th>\n",
       "      <th>newspaper</th>\n",
       "      <th>sales</th>\n",
       "    </tr>\n",
       "  </thead>\n",
       "  <tbody>\n",
       "    <tr>\n",
       "      <th>0</th>\n",
       "      <td>1</td>\n",
       "      <td>230.1</td>\n",
       "      <td>37.8</td>\n",
       "      <td>69.2</td>\n",
       "      <td>22.1</td>\n",
       "    </tr>\n",
       "    <tr>\n",
       "      <th>1</th>\n",
       "      <td>2</td>\n",
       "      <td>44.5</td>\n",
       "      <td>39.3</td>\n",
       "      <td>45.1</td>\n",
       "      <td>10.4</td>\n",
       "    </tr>\n",
       "    <tr>\n",
       "      <th>2</th>\n",
       "      <td>3</td>\n",
       "      <td>17.2</td>\n",
       "      <td>45.9</td>\n",
       "      <td>69.3</td>\n",
       "      <td>9.3</td>\n",
       "    </tr>\n",
       "    <tr>\n",
       "      <th>3</th>\n",
       "      <td>4</td>\n",
       "      <td>151.5</td>\n",
       "      <td>41.3</td>\n",
       "      <td>58.5</td>\n",
       "      <td>18.5</td>\n",
       "    </tr>\n",
       "    <tr>\n",
       "      <th>4</th>\n",
       "      <td>5</td>\n",
       "      <td>180.8</td>\n",
       "      <td>10.8</td>\n",
       "      <td>58.4</td>\n",
       "      <td>12.9</td>\n",
       "    </tr>\n",
       "    <tr>\n",
       "      <th>...</th>\n",
       "      <td>...</td>\n",
       "      <td>...</td>\n",
       "      <td>...</td>\n",
       "      <td>...</td>\n",
       "      <td>...</td>\n",
       "    </tr>\n",
       "    <tr>\n",
       "      <th>195</th>\n",
       "      <td>196</td>\n",
       "      <td>38.2</td>\n",
       "      <td>3.7</td>\n",
       "      <td>13.8</td>\n",
       "      <td>7.6</td>\n",
       "    </tr>\n",
       "    <tr>\n",
       "      <th>196</th>\n",
       "      <td>197</td>\n",
       "      <td>94.2</td>\n",
       "      <td>4.9</td>\n",
       "      <td>8.1</td>\n",
       "      <td>9.7</td>\n",
       "    </tr>\n",
       "    <tr>\n",
       "      <th>197</th>\n",
       "      <td>198</td>\n",
       "      <td>177.0</td>\n",
       "      <td>9.3</td>\n",
       "      <td>6.4</td>\n",
       "      <td>12.8</td>\n",
       "    </tr>\n",
       "    <tr>\n",
       "      <th>198</th>\n",
       "      <td>199</td>\n",
       "      <td>283.6</td>\n",
       "      <td>42.0</td>\n",
       "      <td>66.2</td>\n",
       "      <td>25.5</td>\n",
       "    </tr>\n",
       "    <tr>\n",
       "      <th>199</th>\n",
       "      <td>200</td>\n",
       "      <td>232.1</td>\n",
       "      <td>8.6</td>\n",
       "      <td>8.7</td>\n",
       "      <td>13.4</td>\n",
       "    </tr>\n",
       "  </tbody>\n",
       "</table>\n",
       "<p>200 rows × 5 columns</p>\n",
       "</div>"
      ]
     },
     "execution_count": 3,
     "metadata": {},
     "output_type": "execute_result"
    }
   ],
   "execution_count": 3
  },
  {
   "cell_type": "markdown",
   "metadata": {
    "colab_type": "text",
    "id": "EIs8YjifpQbj"
   },
   "source": [
    "### 1.2 Linear Regression Model"
   ]
  },
  {
   "cell_type": "markdown",
   "metadata": {
    "colab_type": "text",
    "id": "-eOoz_MrpQbj"
   },
   "source": [
    "* If we roughly assume that $f(x)= \\beta_0 x + \\beta_1$, then our goal is to estimate the coefficients $\\beta_0$ and $\\beta_1$. Here, the model is linear with respect to the coefficients $\\beta_0$ and $\\beta_1$.\n",
    "* Let $\\hat{y}_i = \\beta_0 x_i + \\beta_1$ be the prediction of feature $x_i$, and $e_i = y_i - \\hat{y}_i$ represent the difference between the $i$-th observation response value and the response value predicted by our linear model.\n",
    "* Then, we can estimate the coefficients by minimizing the residual sum of squares (RSS): $RSS = e_1^2 + e_2^2 + \\cdots + e_n^2$, or equivalently as,$RSS = (y_1-\\beta_0 x_1-\\beta_1)^2 + \\cdots + (y_n-\\beta_0 x_n-\\beta_1)^2$.\n",
    "* It is easy to derive that the minimizers are $\\hat{\\beta}_0 = \\frac{\\sum_{i=1}^n (x_i-\\bar{x})(y_i-\\bar{y})}{\\sum_{i=1}^n (x_i-\\bar{x})^2}$ and $\\hat{\\beta}_1=\\bar{y}-\\hat{\\beta}_0\\bar{x}$, where $\\bar{x}=\\frac{1}{n}\\sum_{i=1}^n x_i$ and $\\bar{y}=\\frac{1}{n}\\sum_{i=1}^n y_i$."
   ]
  },
  {
   "cell_type": "markdown",
   "metadata": {
    "colab_type": "text",
    "id": "zRAisSOupQbl"
   },
   "source": [
    "**Exercise 1.2.1** (Derivations of above minimizers)\n",
    "\n",
    "* Hints: This can be done by setting the gradients to 0. We can obtain 2 gradient equations:\n",
    "* $\\frac{\\partial RSS}{\\partial \\beta_0} = -2\\sum_{i=1}^n (y_i-\\beta_0 x_i - \\beta_1)x_i = 0$.\n",
    "* $\\frac{\\partial RSS}{\\partial \\beta_1} = -2\\sum_{i=1}^n (y_i-\\beta_0 x_i - \\beta_1) = 0$.\n",
    "* Solving above equations, we can get the results. \n",
    "* Note that all least square problem can have similar gradient equations."
   ]
  },
  {
   "cell_type": "markdown",
   "metadata": {
    "colab_type": "text",
    "id": "Q_YNreMwpQbl"
   },
   "source": [
    "**Exercise 1.2.2** (Coefficient Estimation of Advertising Examples)\n",
    "* To estimate the coefficients for the advertising data in above linear model.\n",
    "* The final result is $\\beta_0 = 0.0475$ and $\\beta_1=7.03$."
   ]
  },
  {
   "metadata": {
    "ExecuteTime": {
     "end_time": "2025-08-19T01:55:49.746715Z",
     "start_time": "2025-08-19T01:55:49.741568Z"
    }
   },
   "cell_type": "code",
   "source": [
    "# TODO\n",
    "import numpy as np\n",
    "# beta_0, beta_1 = 0.0475, 7.03\n",
    "# beta_0:\n",
    "x = np.array(budget, dtype=float)\n",
    "y = np.array(sales, dtype=float)\n",
    "xbar = x.mean()\n",
    "ybar = y.mean()\n",
    "\n",
    "Sxx = np.sum((x - xbar) ** 2)\n",
    "Sxy = np.sum((x - xbar) * (y - ybar))\n",
    "\n",
    "beta_0 = Sxy / Sxx\n",
    "beta_1 = ybar - beta_0 * xbar\n",
    "\n",
    "g0 = -2*np.sum(y - (beta_1 + beta_0*x))\n",
    "g1 = -2*np.sum((y - (beta_1 + beta_0*x))*x)\n",
    "g0, g1, beta_1, beta_0"
   ],
   "outputs": [
    {
     "data": {
      "text/plain": [
       "(4.547473508864641e-13,\n",
       " 5.093170329928398e-11,\n",
       " 7.0325935491276965,\n",
       " 0.047536640433019736)"
      ]
     },
     "execution_count": 4,
     "metadata": {},
     "output_type": "execute_result"
    }
   ],
   "execution_count": 4
  },
  {
   "metadata": {
    "ExecuteTime": {
     "end_time": "2025-08-19T01:55:49.912619Z",
     "start_time": "2025-08-19T01:55:49.844713Z"
    }
   },
   "cell_type": "code",
   "source": [
    "pred_y = [beta_0 * item + beta_1 for item in budget]\n",
    "# Visualize the data\n",
    "plt.plot(budget,sales,'ro',budget, pred_y, 'b--')\n",
    "plt.xlabel('Advertising budget')\n",
    "plt.ylabel('Sales')\n",
    "plt.show()"
   ],
   "outputs": [
    {
     "data": {
      "text/plain": [
       "<Figure size 640x480 with 1 Axes>"
      ],
      "image/png": "[encoded data removed]"
     },
     "metadata": {},
     "output_type": "display_data"
    }
   ],
   "execution_count": 5
  },
  {
   "cell_type": "markdown",
   "metadata": {
    "colab_type": "text",
    "id": "EY4SeWd6pQbp"
   },
   "source": [
    "### 1.3 Matrix Form"
   ]
  },
  {
   "cell_type": "markdown",
   "metadata": {
    "colab_type": "text",
    "id": "q_FhOntApQbq"
   },
   "source": [
    "* Denote $\\mathbf{x}$ as a design matrix $\\begin{bmatrix}\n",
    "    x_1       & x_2 & x_3 & \\dots & x_n \\\\\n",
    "    1       & 1 & 1 & \\dots & 1\n",
    "\\end{bmatrix}^{\\top}$, $\\mathbf{y} = [y_1,\\cdots,y_n]^{\\top}$, $\\mathbf{\\beta} = [\\beta_0,\\beta_1]^{\\top}$.\n",
    "* We have the predictions $\\hat{\\mathbf{y}} = \\mathbf{x} \\mathbf{\\beta}$.\n",
    "* Then, $RSS = \\|\\mathbf{y}-\\hat{\\mathbf{y}}\\|_2^2=\\|\\mathbf{y}- \\mathbf{x}\\mathbf{\\beta}\\|_2^2$, where $\\|\\cdot\\|_2$ is $l_2$ norm of a vector.\n",
    "* If we assume that $\\mathbf{x}^{\\top}\\mathbf{x}$ is non-singular. The minimizers are $\\mathbf{\\beta}=(\\mathbf{x}^{\\top}\\mathbf{x})^{-1}\\mathbf{x}^{\\top}\\mathbf{y}$."
   ]
  },
  {
   "metadata": {},
   "cell_type": "markdown",
   "source": [
    "**Exercise 1.3.1** (Derivations of the minimizers)\n",
    "* Similarly, we compute the gradient of $RSS$ with respect to $\\mathbf{\\beta}$. Then, let the gradient be $\\mathbf{0}$."
   ]
  },
  {
   "cell_type": "markdown",
   "metadata": {
    "colab_type": "text",
    "id": "uTm7c3LspQbr"
   },
   "source": [
    "**Exercise 1.3.2** (Coefficient Estimation of Advertising Examples)\n",
    "* To estimate the coefficients for the advertising data according to above derivations.\n",
    "* The final result is also $\\mathbf{\\beta} = [0.0475,7.03]^{\\top}$."
   ]
  },
  {
   "metadata": {
    "colab": {},
    "colab_type": "code",
    "id": "5o7AiMBvpQbs",
    "outputId": "abce5d96-188e-46bf-ab62-1a163893a996",
    "ExecuteTime": {
     "end_time": "2025-08-19T01:55:50.065637Z",
     "start_time": "2025-08-19T01:55:50.058647Z"
    }
   },
   "cell_type": "code",
   "source": [
    "# Numpy can be easily installed by \"pip install numpy\".\n",
    "# Hint: numpy.dot, numpy.linalg.inv can be used.\n",
    "import numpy as np\n",
    "import numpy.linalg as lng\n",
    "\n",
    "# store budget and sale values into matrix\n",
    "n = len(budget)\n",
    "x = np.ones((n,2))\n",
    "y = np.zeros((n,1))\n",
    "\n",
    "for i in range(n):\n",
    "    x[i][0] = budget[i]\n",
    "    y[i] = sales[i]\n",
    "print(x.shape, y.shape)\n",
    "\n",
    "# compute coefficient beta\n",
    "# TODO\n",
    "\n",
    "beta = np.linalg.pinv(x.T @ x) @ (x.T @ y)\n",
    "\n",
    "# How to calculate the residual\n",
    "Rss = np.linalg.norm(y - x @ beta) ** 2\n",
    "beta"
   ],
   "outputs": [
    {
     "name": "stdout",
     "output_type": "stream",
     "text": [
      "(200, 2) (200, 1)\n"
     ]
    },
    {
     "data": {
      "text/plain": [
       "array([[0.04753664],\n",
       "       [7.03259355]])"
      ]
     },
     "execution_count": 6,
     "metadata": {},
     "output_type": "execute_result"
    }
   ],
   "execution_count": 6
  },
  {
   "cell_type": "markdown",
   "metadata": {
    "colab_type": "text",
    "id": "m4_iygoNpQbu"
   },
   "source": [
    "### 1.4 Gradient Descent Method\n",
    "* We can also solve this linear regression problem using gradient descent method.\n",
    "* In gradient decent method, given an objective function $R(\\mathbf{\\beta})$, such as RSS in above example, we update $\\mathbf{\\beta}$ as $\\mathbf{\\beta}^{(k+1)} = \\mathbf{\\beta}^{(k)}-\\lambda^{(k)}\\nabla R(\\mathbf{\\beta}^{(k)})$. Here, $\\lambda^{(k)}$ are the step sizes or learning rates; $\\nabla R(\\mathbf{\\beta}^{(k)})$ is the gradient of $R(\\beta)$ at $\\mathbf{\\beta}^{(k)}$.\n",
    "* This process will generate a minimizing sequence $\\mathbf{\\beta}^{(k)}, k=1,2,\\cdots$, which satisfy $R(\\mathbf{\\beta}^{(k+1)}) \\leq R(\\mathbf{\\beta}^{(k)})$. Also, it may finally achieve the optimal minimizer."
   ]
  },
  {
   "cell_type": "markdown",
   "metadata": {
    "colab_type": "text",
    "id": "FsJOPrZ5pQbv"
   },
   "source": [
    "**Exercise 1.4.2** (Coefficient Estimation of Advertising Examples)\n",
    "* To estimate the coefficients for the advertising data using gradient descent method.\n",
    "* Note that this method can achieve a solution close to above mentioned methods by carefully choosing the learning rate and maximum number of iterations. Using following parameters, the result is $[0.0478, 6.99]^{\\top}$."
   ]
  },
  {
   "cell_type": "code",
   "metadata": {
    "colab": {},
    "colab_type": "code",
    "id": "39guM0IzpQbw",
    "outputId": "58fd2853-937a-4bb4-8998-47149a830b45",
    "ExecuteTime": {
     "end_time": "2025-08-19T01:55:59.222647Z",
     "start_time": "2025-08-19T01:55:50.273088Z"
    }
   },
   "source": [
    "# initialize beta\n",
    "beta = np.zeros((2,1))\n",
    "# learning rate\n",
    "lr = 1e-7\n",
    "# max number of iterations\n",
    "maxiter = 1000000\n",
    "# difference between betas before and after update\n",
    "diff = float('Inf')\n",
    "# stop criterion\n",
    "eps = 1e-8\n",
    "iters = 0\n",
    "while (iters < maxiter) and (diff > eps):\n",
    "    # compute the gradient of RSS at beta and update beta\n",
    "    # TODO\n",
    "    # 计算 残差\n",
    "    r = y - x @ beta\n",
    "    grad = -2 * (x.T @ r)\n",
    "\n",
    "    # 更新beta\n",
    "    beta_old = beta\n",
    "    beta = beta - lr * grad\n",
    "\n",
    "    # 计算最新的残差\n",
    "    diff = np.linalg.norm(y - x @ beta) ** 2\n",
    "    iters += 1\n",
    "\n",
    "RSS = np.linalg.norm(y - x @ beta) ** 2\n",
    "print(RSS)\n",
    "beta\n"
   ],
   "outputs": [
    {
     "name": "stdout",
     "output_type": "stream",
     "text": [
      "2102.5305871022556\n"
     ]
    },
    {
     "data": {
      "text/plain": [
       "array([[0.04753806],\n",
       "       [7.03231357]])"
      ]
     },
     "execution_count": 7,
     "metadata": {},
     "output_type": "execute_result"
    }
   ],
   "execution_count": 7
  },
  {
   "cell_type": "markdown",
   "metadata": {
    "colab_type": "text",
    "id": "U8eWaYzWpQb0"
   },
   "source": [
    "## 2. Logistic Regression\n",
    "* Introduction to logistic regression. In above advertising example, we try to regress real values of sales by using linear models. Here, we consider the classification problem in which target variable $Y$ are categorical.\n",
    "* We also let $X$ and $Y$ be the variables of features and targets (labels), respectively. \n",
    "* We are often given observations $\\{(x_1,y_1),\\cdots,(x_n,y_n)\\}$. Our target is to learn a classifer $f$ such that $f(X)$ can predict the label $Y$ very well."
   ]
  },
  {
   "cell_type": "markdown",
   "metadata": {
    "colab_type": "text",
    "id": "KmE-kdnFpQb2"
   },
   "source": [
    "**Iris Example:**\n",
    "* In this example, we try to classify types of iris plant. The dataset is downloaded from UCI Machine Learning Repository.\n",
    "* The Iris dataset includes three types of iris plant: Setosa, Versicolour, and Virginica. Each type include 50 examples. \n",
    "* Here, we load the data for Setosa and Versicolour, and try to distinguish them by training a binary classfier."
   ]
  },
  {
   "cell_type": "markdown",
   "metadata": {
    "colab_type": "text",
    "id": "9pe4JsTGpQb3"
   },
   "source": [
    "### 2.1 Load Iris Data"
   ]
  },
  {
   "cell_type": "code",
   "metadata": {
    "colab": {},
    "colab_type": "code",
    "id": "29TaXch8pQb3",
    "ExecuteTime": {
     "end_time": "2025-08-19T01:55:59.369006Z",
     "start_time": "2025-08-19T01:55:59.364339Z"
    }
   },
   "source": [
    "# Note that: csv is a library for reading and writing csv files\n",
    "import csv\n",
    "import numpy as np\n",
    "\n",
    "# load data in csv file\n",
    "features = []\n",
    "target = []\n",
    "with open('./data/iris.csv') as f:\n",
    "    reader = csv.reader(f)\n",
    "    for row in reader:\n",
    "        if row[-1]=='setosa':\n",
    "            features.append([float(i) for i in row[:-1]])\n",
    "            target.append(1)\n",
    "        elif row[-1]=='versicolor':\n",
    "            features.append([float(i) for i in row[:-1]])\n",
    "            target.append(-1)\n",
    "        else:\n",
    "            continue\n",
    "            \n",
    "# we convert list to numpy array,then we can use the advantage of the numpy library           \n",
    "X = np.array(features)\n",
    "Y = np.array(target)\n",
    "(n,dim) = X.shape\n"
   ],
   "outputs": [],
   "execution_count": 8
  },
  {
   "cell_type": "markdown",
   "metadata": {
    "colab_type": "text",
    "id": "Gi7bn79FpQb5"
   },
   "source": [
    "### 2.2 Logistic Regression Model"
   ]
  },
  {
   "cell_type": "markdown",
   "metadata": {
    "colab_type": "text",
    "id": "Yqg6nxnXpQb6"
   },
   "source": [
    "* In logistic regression, we let the classifier be $f(x,w) = \\log \\frac{p(y=1|x,w)}{p(y=-1|x,w)}$. We can see, if $p(y=1|x,w)>p(y=-1|x,w)$, $f(x,w)>0$ and $x$ should be classified to $1$; otherwise, $-1$.\n",
    "* Then, it is easy to get $p(y|x,w)=\\frac{1}{1+\\exp(-yf(x,w))}$.\n",
    "* Given the training data $\\{(x_1,y_1),\\cdots,(x_n,y_n)\\}$, we can identify the classifier by maximize the likelihood, i.e., $ML=\\Pi_{i=1}^n p(y_i|x_i,w)=\\Pi_{i=1}^n \\frac{1}{1+\\exp(-y_if(x_i,w))}$; or equivalently, by minimizing the negative log likelihood (NLL), i.e., $NLL=\\sum_{i=1}^n \\log(1+\\exp(-y_if(x_i,w)))$.\n",
    "* In the iris example, we also assume that $f$ is linear with respect to parameters $w$; that is, $f(x,w)=w^{\\top}x$.\n",
    "* In order to train the classifier, we often use the gradient descent method to minimize NLL.\n",
    "* This topic is assumed known (COMP5318). More details can be found at Wiki: https://en.wikipedia.org/wiki/Logistic_regression."
   ]
  },
  {
   "cell_type": "markdown",
   "metadata": {
    "colab_type": "text",
    "id": "YaEmgpcOpQb7"
   },
   "source": [
    "**Exercise 2.2.1** (Estimating Parameters of Iris Example)\n",
    "* To estimate the parameters by using the gradient descent method.\n",
    "* Note that learning rate and maxiter should be tuned to achieve best results. The linear classifier may not work well."
   ]
  },
  {
   "cell_type": "code",
   "metadata": {
    "ExecuteTime": {
     "end_time": "2025-08-19T01:55:59.452006Z",
     "start_time": "2025-08-19T01:55:59.443981Z"
    }
   },
   "source": [
    "# shuffle index\n",
    "arr = np.arange(n)\n",
    "np.random.shuffle(arr)\n",
    "\n",
    "# split the data to training (80%) and test data (20%)\n",
    "ntr = int(0.8*n)\n",
    "nts = n - ntr\n",
    "\n",
    "# training data\n",
    "Xtr = X[arr[:ntr]]\n",
    "Ytr = Y[arr[:ntr]]\n",
    "\n",
    "# test data\n",
    "Xts = X[arr[ntr:]]\n",
    "Yts = Y[arr[ntr:]]\n",
    "\n",
    "# Optional: data preprocessing such as normalization\n",
    "# TODO\n",
    "# x_min = min(Xtr.min(), Xts.min())\n",
    "# x_max = max(Xtr.max(), Xts.max())\n",
    "# Xtr = (Xtr - x_min) / (x_max - x_min)\n",
    "# Xts = (Xts - x_min) / (x_max - x_min)\n",
    "mu  = Xtr.mean(axis=0)\n",
    "std = Xtr.std(axis=0) + 1e-12     # 防止除0\n",
    "Xtr_scaled = (Xtr - mu) / std\n",
    "Xts_scaled = (Xts - mu) / std\n",
    "\n",
    "Xtr = np.column_stack([np.ones((Xtr_scaled.shape[0], 1)), Xtr_scaled])\n",
    "Xts = np.column_stack([np.ones((Xts_scaled.shape[0], 1)), Xts_scaled])\n",
    "Ytr = Ytr.reshape(-1, 1)\n",
    "Yts = Yts.reshape(-1, 1)\n",
    "Xtr\n",
    "# initialize parameters dim means how many features it has."
   ],
   "outputs": [
    {
     "data": {
      "text/plain": [
       "array([[ 1.        , -0.73569193,  1.0766385 , -1.02103305, -1.02348699],\n",
       "       [ 1.        ,  0.47159739, -0.81404374,  0.70660324,  0.73735084],\n",
       "       [ 1.        ,  0.47159739, -1.02411955,  0.77570869,  0.73735084],\n",
       "       [ 1.        , -1.03751426,  0.65648689, -0.88282214, -1.02348699],\n",
       "       [ 1.        ,  0.32068623, -0.60396794,  1.12123595,  0.91343462],\n",
       "       [ 1.        , -1.33933659,  0.23633528, -1.02103305, -1.02348699],\n",
       "       [ 1.        , -0.13204727,  1.70686592, -0.81371669, -0.67131942],\n",
       "       [ 1.        , -1.49024776, -1.65434697, -1.0901385 , -0.84740321],\n",
       "       [ 1.        , -0.73569193,  0.65648689, -0.88282214, -0.67131942],\n",
       "       [ 1.        , -0.58478077, -1.23419535,  0.08465418,  0.56126706],\n",
       "       [ 1.        ,  1.22615322, -1.23419535,  1.39765776,  1.26560219],\n",
       "       [ 1.        ,  2.28253137,  0.23633528,  1.25944686,  1.08951841],\n",
       "       [ 1.        ,  0.77341972,  0.65648689,  1.12123595,  1.44168597],\n",
       "       [ 1.        ,  0.92433089, -0.60396794,  1.25944686,  0.73735084],\n",
       "       [ 1.        , -1.33933659,  0.65648689, -1.02103305, -0.84740321],\n",
       "       [ 1.        , -0.13204727,  0.65648689, -0.9519276 , -0.67131942],\n",
       "       [ 1.        ,  1.82979788,  0.02625948,  1.25944686,  1.26560219],\n",
       "       [ 1.        ,  1.82979788,  0.02625948,  1.0521305 ,  1.08951841],\n",
       "       [ 1.        , -0.8866031 ,  0.02625948, -0.9519276 , -1.19957077],\n",
       "       [ 1.        , -0.58478077,  1.28671431, -0.9519276 , -0.67131942],\n",
       "       [ 1.        , -0.8866031 , -0.18381633, -1.02103305, -1.02348699],\n",
       "       [ 1.        , -1.33933659,  0.02625948, -0.9519276 , -1.02348699],\n",
       "       [ 1.        , -0.13204727, -0.18381633,  1.12123595,  1.26560219],\n",
       "       [ 1.        ,  0.16977506, -1.23419535,  0.70660324,  0.56126706],\n",
       "       [ 1.        ,  0.32068623,  2.75724494, -0.9519276 , -0.67131942],\n",
       "       [ 1.        ,  0.0188639 , -1.44427116,  0.56839234,  0.38518328],\n",
       "       [ 1.        , -0.73569193,  0.8665627 , -1.0901385 , -0.84740321],\n",
       "       [ 1.        ,  1.67888671, -0.18381633,  1.0521305 ,  1.08951841],\n",
       "       [ 1.        ,  0.62250856, -0.18381633,  0.9139196 ,  1.26560219],\n",
       "       [ 1.        ,  0.0188639 , -1.23419535,  0.77570869,  0.91343462],\n",
       "       [ 1.        , -1.18842543,  0.23633528, -0.88282214, -1.02348699],\n",
       "       [ 1.        , -1.03751426, -0.18381633, -1.02103305, -0.84740321],\n",
       "       [ 1.        , -0.73569193,  0.23633528, -1.15924395, -1.02348699],\n",
       "       [ 1.        ,  0.32068623, -0.39389213,  0.9139196 ,  0.91343462],\n",
       "       [ 1.        , -0.8866031 ,  0.02625948, -0.9519276 , -1.19957077],\n",
       "       [ 1.        , -0.4338696 ,  2.12701753, -0.9519276 , -1.19957077],\n",
       "       [ 1.        , -0.4338696 , -0.81404374,  0.70660324,  1.08951841],\n",
       "       [ 1.        , -0.58478077,  1.49679011, -0.67550579, -0.67131942],\n",
       "       [ 1.        ,  0.47159739,  1.91694172, -1.15924395, -1.02348699],\n",
       "       [ 1.        ,  1.07524205, -0.39389213,  0.98302505,  0.91343462],\n",
       "       [ 1.        , -1.03751426, -0.18381633, -1.02103305, -1.19957077],\n",
       "       [ 1.        ,  0.77341972, -1.86442277,  0.77570869,  0.38518328],\n",
       "       [ 1.        ,  1.37706438, -0.39389213,  0.98302505,  0.91343462],\n",
       "       [ 1.        , -1.03751426,  0.02625948, -0.88282214, -1.02348699],\n",
       "       [ 1.        , -0.58478077,  0.65648689, -0.9519276 , -1.02348699],\n",
       "       [ 1.        ,  0.32068623, -1.02411955,  0.43018144,  0.38518328],\n",
       "       [ 1.        ,  1.52797555, -0.60396794,  1.1903414 ,  1.26560219],\n",
       "       [ 1.        , -0.73569193,  0.8665627 , -0.88282214, -0.31915186],\n",
       "       [ 1.        ,  0.62250856,  0.23633528,  1.32855231,  1.79385354],\n",
       "       [ 1.        , -0.4338696 ,  0.65648689, -1.02103305, -1.02348699],\n",
       "       [ 1.        , -0.73569193, -2.28457438,  0.43018144,  0.38518328],\n",
       "       [ 1.        , -1.64115892,  0.23633528, -1.0901385 , -1.02348699],\n",
       "       [ 1.        ,  0.92433089, -0.39389213,  1.25944686,  1.08951841],\n",
       "       [ 1.        , -1.64115892, -0.18381633, -1.0901385 , -1.02348699],\n",
       "       [ 1.        ,  0.0188639 , -1.44427116,  0.63749779,  0.56126706],\n",
       "       [ 1.        , -0.8866031 , -1.44427116,  0.29197053,  0.38518328],\n",
       "       [ 1.        ,  1.22615322, -1.65434697,  1.0521305 ,  0.91343462],\n",
       "       [ 1.        , -1.79207009, -0.18381633, -1.2283494 , -1.19957077],\n",
       "       [ 1.        ,  0.32068623, -0.18381633,  0.9139196 ,  0.73735084],\n",
       "       [ 1.        , -0.4338696 ,  0.8665627 , -0.9519276 , -1.02348699],\n",
       "       [ 1.        ,  0.0188639 ,  2.33709333, -1.02103305, -1.02348699],\n",
       "       [ 1.        ,  0.0188639 , -1.65434697,  0.77570869,  0.91343462],\n",
       "       [ 1.        , -0.58478077,  1.49679011, -0.88282214, -1.02348699],\n",
       "       [ 1.        , -0.13204727,  0.65648689, -0.81371669, -1.02348699],\n",
       "       [ 1.        , -0.73569193,  0.44641109, -1.02103305, -1.02348699],\n",
       "       [ 1.        , -0.13204727,  1.28671431, -0.9519276 , -1.02348699],\n",
       "       [ 1.        ,  1.98070904, -0.60396794,  1.32855231,  1.08951841],\n",
       "       [ 1.        ,  1.22615322,  0.44641109,  1.25944686,  1.44168597],\n",
       "       [ 1.        ,  1.82979788, -0.18381633,  1.46676321,  1.61776976],\n",
       "       [ 1.        ,  2.13162021,  0.02625948,  1.39765776,  1.26560219],\n",
       "       [ 1.        ,  0.16977506, -0.18381633,  1.12123595,  1.26560219],\n",
       "       [ 1.        , -0.8866031 ,  0.02625948, -0.9519276 , -1.19957077],\n",
       "       [ 1.        , -0.58478077,  1.49679011, -0.9519276 , -0.84740321],\n",
       "       [ 1.        ,  0.92433089, -0.60396794,  0.77570869,  0.91343462],\n",
       "       [ 1.        , -0.73569193, -0.18381633, -0.88282214, -1.02348699],\n",
       "       [ 1.        , -1.03751426,  0.65648689, -0.67550579, -1.02348699],\n",
       "       [ 1.        ,  0.47159739, -0.81404374,  0.84481415,  0.38518328],\n",
       "       [ 1.        ,  1.67888671, -0.39389213,  1.1903414 ,  0.91343462],\n",
       "       [ 1.        ,  0.77341972, -0.81404374,  1.53586866,  1.44168597],\n",
       "       [ 1.        ,  0.0188639 ,  0.8665627 , -1.0901385 , -1.02348699]])"
      ]
     },
     "execution_count": 9,
     "metadata": {},
     "output_type": "execute_result"
    }
   ],
   "execution_count": 9
  },
  {
   "metadata": {
    "ExecuteTime": {
     "end_time": "2025-08-19T02:14:41.571641Z",
     "start_time": "2025-08-19T02:14:41.547693Z"
    }
   },
   "cell_type": "code",
   "source": [
    "\n",
    "w = np.random.random((dim + 1, 1))\n",
    "\n",
    "# learning rate\n",
    "lr = 1e-3\n",
    "\n",
    "# maximum iterations\n",
    "maxiter = 500\n",
    "\n",
    "# difference between betas before and after update. If the difference is small enough, then stop the update.\n",
    "diff = float('Inf')\n",
    "iters = 0\n",
    "# stop criterion\n",
    "eps = 1e-10\n",
    "def sigmoid(z):\n",
    "    return 1 / (1 + np.exp(-z))\n",
    "\n",
    "while (iters < maxiter) and (diff > eps):\n",
    "    # compute gradient of NLL at w and update w\n",
    "    y_pred = sigmoid(Xtr @ w)\n",
    "    grad = Xtr.T @ (y_pred - Ytr)\n",
    "\n",
    "    w_old = w.copy()\n",
    "    # upgrade the Weight\n",
    "    w = w - lr * grad\n",
    "\n",
    "    # calculate the difference\n",
    "    diff = np.linalg.norm(w - w_old)\n",
    "    iters += 1\n",
    "\n",
    "# test accuracy on test set\n",
    "# TODO\n",
    "# 训练集\n",
    "res = Xts @ w               # 线性打分 (logit)\n",
    "# convert res to 1, -1, using sigmod\n",
    "yhat = np.where(sigmoid(res) >= 0.5, 1, -1)  # sign(res)\n",
    "acc  = (yhat == Yts).mean()\n",
    "yhat"
   ],
   "outputs": [
    {
     "data": {
      "text/plain": [
       "array([[-1],\n",
       "       [ 1],\n",
       "       [ 1],\n",
       "       [-1],\n",
       "       [ 1],\n",
       "       [-1],\n",
       "       [-1],\n",
       "       [-1],\n",
       "       [ 1],\n",
       "       [-1],\n",
       "       [ 1],\n",
       "       [-1],\n",
       "       [ 1],\n",
       "       [ 1],\n",
       "       [-1],\n",
       "       [-1],\n",
       "       [-1],\n",
       "       [ 1],\n",
       "       [ 1],\n",
       "       [ 1]])"
      ]
     },
     "execution_count": 36,
     "metadata": {},
     "output_type": "execute_result"
    }
   ],
   "execution_count": 36
  },
  {
   "metadata": {
    "ExecuteTime": {
     "end_time": "2025-08-19T01:56:55.034832Z",
     "start_time": "2025-08-19T01:56:55.030913Z"
    }
   },
   "cell_type": "code",
   "source": "Yts",
   "outputs": [
    {
     "data": {
      "text/plain": [
       "array([[-1],\n",
       "       [ 1],\n",
       "       [ 1],\n",
       "       [-1],\n",
       "       [ 1],\n",
       "       [-1],\n",
       "       [-1],\n",
       "       [-1],\n",
       "       [ 1],\n",
       "       [-1],\n",
       "       [ 1],\n",
       "       [-1],\n",
       "       [ 1],\n",
       "       [ 1],\n",
       "       [-1],\n",
       "       [-1],\n",
       "       [-1],\n",
       "       [ 1],\n",
       "       [ 1],\n",
       "       [ 1]])"
      ]
     },
     "execution_count": 14,
     "metadata": {},
     "output_type": "execute_result"
    }
   ],
   "execution_count": 14
  },
  {
   "metadata": {
    "ExecuteTime": {
     "end_time": "2025-08-19T02:14:45.953054Z",
     "start_time": "2025-08-19T02:14:45.947341Z"
    }
   },
   "cell_type": "code",
   "source": "acc",
   "outputs": [
    {
     "data": {
      "text/plain": [
       "1.0"
      ]
     },
     "execution_count": 37,
     "metadata": {},
     "output_type": "execute_result"
    }
   ],
   "execution_count": 37
  },
  {
   "metadata": {},
   "cell_type": "code",
   "outputs": [],
   "execution_count": null,
   "source": ""
  }
 ],
 "metadata": {
  "colab": {
   "name": "lab1.ipynb",
   "provenance": [],
   "toc_visible": true,
   "version": "0.3.2"
  },
  "kernelspec": {
   "display_name": "Python 3.9.7 ('base')",
   "language": "python",
   "name": "python3"
  },
  "language_info": {
   "codemirror_mode": {
    "name": "ipython",
    "version": 3
   },
   "file_extension": ".py",
   "mimetype": "text/x-python",
   "name": "python",
   "nbconvert_exporter": "python",
   "pygments_lexer": "ipython3",
   "version": "3.9.7"
  },
  "vscode": {
   "interpreter": {
    "hash": "ad2bdc8ecc057115af97d19610ffacc2b4e99fae6737bb82f5d7fb13d2f2c186"
   }
  }
 },
 "nbformat": 4,
 "nbformat_minor": 1
}
