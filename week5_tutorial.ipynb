{
 "cells": [
  {
   "cell_type": "markdown",
   "metadata": {},
   "source": [
    "# COMP5328 - Advanced Machine Learning"
   ]
  },
  {
   "cell_type": "markdown",
   "metadata": {},
   "source": [
    "## Tutorial - Approximation Error and Estimation Error"
   ]
  },
  {
   "cell_type": "markdown",
   "metadata": {},
   "source": [
    "**Semester 2, 2025**\n",
    "\n",
    "**Objectives:**\n",
    "\n",
    "* To understand the concept of approximation error and estimation error.\n",
    "* To show the approximation error and estimation error in practical examples.\n",
    "\n",
    "\n",
    "**Instructions:**\n",
    "* Exercises to be completed on IPython notebook such as: \n",
    "   * Ipython 3 (Jupyter) notebook installed on your computer http://jupyter.org/install (you need to have Python installed first https://docs.python.org/3/using/index.html )\n",
    "   * Web-based Ipython notebooks such as Google Colaboratory https://colab.research.google.com/ \n",
    "   \n",
    "* If you are using Jupyter intalled on your computer, Go to File->Open. Drag and drop \"week4_tutorial.ipynb\" file to the home interface and click upload. \n",
    "* If you are using Google Colaboratory, Click File->Upload notebook, and and upload \"week4_tutorial.ipynb\" file\n",
    "* Complete exercises in \"week4_tutorial.ipynb\".\n",
    "* To run the cell you can press Ctrl-Enter or hit the Play button at the top.\n",
    "* Complete all exercises marked with **TODO**.\n",
    "* Save your file when you are done with the exercises, so you can show your tutor next week.\n",
    "\n",
    "Lecturers: Tongliang Liu"
   ]
  },
  {
   "cell_type": "markdown",
   "metadata": {},
   "source": [
    "## 1. Approximation Error and Estimation Error\n",
    "* Let $X$ and $Y$ be variables of features and labels (real values or numerical categorical values), respectively. We also denote $S=\\{(X_1,Y_1),\\cdots,(X_n,Y_n)\\}$ as a training sample with sample size $n$. This training sample is assumed to drawn independently according to the distribution $P(X,Y)$.\n",
    "\n",
    "\n",
    "* Let $h$ be a hypothesis function which tries to fit the data. For example, in classification and regression, a hypothesis function is a mapping from input features to labels; that is, $h:X\\mapsto Y$. We denote $\\mathcal{H}$ as a predefined Hypothesis class. "
   ]
  },
  {
   "cell_type": "markdown",
   "metadata": {},
   "source": [
    "### 1.1 Loss Function and Risk\n",
    "* To measure the performance of each hypothesis function on data fitting, loss function is introduced. For example, in classification, loss functions such as 0-1 loss measure the error between the true labels and predicted labels. We denote the loss function as $\\ell(X,Y,h)$.\n",
    "\n",
    "\n",
    "* Given a loss function and a hypothesis function, the $\\textbf{expected risk}$ is defined as $R(h)=\\mathbb{E}\\left[\\ell(X,Y,h)\\right]=\\int_{X,Y} P(X,Y)\\ell(X,Y,h)dXdY$.\n",
    "\n",
    "\n",
    "* In fact, we only have access to training examples drawn according to the distribution $P(X,Y)$. Thus, we approximate the expected risk using the $\\textbf{empirical risk}$; that is, $R_S(h) = \\sum_{i=1}^n \\ell(X_i,Y_i,h)$.\n",
    "\n",
    "\n",
    "* Viewing $\\{(X_1,Y_1),\\cdots,(X_n,Y_n)\\}$ as independently and identically distributed random variables, then $R(h)=\\mathbb{E}\\left[R_S(h)\\right]$. "
   ]
  },
  {
   "cell_type": "markdown",
   "metadata": {},
   "source": [
    "### 1.2 The Target Concept, the Best Hypothesis in the Hypothesis Class, and the Learned Hypothesis\n",
    "* The target concept $c$ is the best hypothesis function in the universal function space; that is, $c=\\arg\\min_{h} R(h)$.\n",
    "\n",
    "\n",
    "* The best hypothesis function $h^*$ in the hypothesis class is $h^*=\\arg\\min_{h\\in \\mathcal{H}} R(h)$.\n",
    "\n",
    "\n",
    "* The learned hypothesis function $h_S$ is obtained by minimizing the empiricial risk; that is, $h_S = \\arg\\min_{h\\in \\mathcal{H}} R_S(h)$."
   ]
  },
  {
   "cell_type": "markdown",
   "metadata": {},
   "source": [
    "### 1.3 Approximation Error and Estimation Error\n",
    "* The $\\textbf{approximation error}$ is caused by difference between $h^*$ and $c$. Here, we use the difference $R(h^*)-R(c)$ to measure the approximation error.\n",
    "\n",
    "\n",
    "* The $\\textbf{estimation error}$ is caused by $h_S$ and $h^*$. Here, we use the difference $R(h_S)-R(h^*)$ to measure the estimation error.\n",
    "\n",
    "\n",
    "* We can easily see that the difference $R(h_S) - R(c)$ can be decompose to $R(h_S)-R(h^*)+R(h^*)-R(c)$."
   ]
  },
  {
   "cell_type": "markdown",
   "metadata": {},
   "source": [
    "### 1.4 Case 1: Target Concept is in the Hypothesis Class\n",
    "* We first consider the case in which the target concept is included in the predefined hypothesis class $\\mathcal{H}$. In this case, $h^*=c$ and the approximation error will be 0.\n",
    "\n",
    "\n",
    "\n",
    "**Example:**\n",
    "* Here, we use linear logistic regression as an example to illustrate how the estimation error changes when the number of training examples is increasing. \n",
    "\n",
    "\n",
    "* Recall that, in logistic regression, we let $h(x,w) = \\log \\frac{p(y=1|x,w)}{p(y=-1|x,w)}$. If $p(y=1|x,w)>p(y=-1|x,w)$, $h(x,w)>0$ and $x$ should be classified to $1$; otherwise, $-1$. Here, we define $h(x,w)=0$ as a decision boundary to split the data into two classes. More details about decision boundary can be found at https://en.wikipedia.org/wiki/Decision_boundary.\n",
    "\n",
    "\n",
    "* In this example, we assume all training data are two dimensional vectors, i.e., $X \\in \\mathbb{R}^2$. The true decision boundary is set to be $c(X) = X^{\\top} \\left[\\begin{array}{c} 1 \\\\ -1 \\end{array} \\right]=0$. If $X^{\\top} \\left[\\begin{array}{c} 1 \\\\ -1 \\end{array} \\right]\\geq 0$, the data is labelled as $1$; otherwise, $-1$. \n",
    "\n",
    "\n",
    "* We also assume the predefined hypothesis class is linear; that is, $h(X,w) = X^{\\top} w$. We can easily see, the target concept $c(X) = X^{\\top} \\left[\\begin{array}{c} 1 \\\\ -1 \\end{array} \\right]$ is included in the predefined hypothesis class.\n",
    "\n",
    "\n",
    "\n",
    "* The visualization of the training data is shown as follows:"
   ]
  },
  {
   "cell_type": "markdown",
   "metadata": {},
   "source": [
    "#### 1.4.1 Visualization of the Training Data"
   ]
  },
  {
   "cell_type": "code",
   "metadata": {
    "ExecuteTime": {
     "end_time": "2025-09-01T13:53:14.155430Z",
     "start_time": "2025-09-01T13:53:13.852352Z"
    }
   },
   "source": [
    "import numpy as np\n",
    "import matplotlib.pyplot as plt\n",
    "\n",
    "%matplotlib inline \n",
    "\n",
    "nsample = 20000 # size of the sample\n",
    "X = -5 + 10*np.random.rand(2,nsample)\n",
    "Y = np.zeros(nsample)\n",
    "for i in range(nsample):\n",
    "    if X[0][i]-X[1][i]>=0:\n",
    "        Y[i] = 1\n",
    "    else:\n",
    "        Y[i] = -1\n",
    "\n",
    "# visualization of the training data\n",
    "plt.scatter(X[0],X[1],c=['b' if X[0][i]-X[1][i]<0.0 else 'r' for i in range(nsample)])\n",
    "plt.show()"
   ],
   "outputs": [
    {
     "data": {
      "text/plain": [
       "<Figure size 640x480 with 1 Axes>"
      ],
      "image/png": "[encoded data removed]"
     },
     "metadata": {},
     "output_type": "display_data"
    }
   ],
   "execution_count": 16
  },
  {
   "metadata": {
    "ExecuteTime": {
     "end_time": "2025-09-01T13:11:19.585526Z",
     "start_time": "2025-09-01T13:11:19.582718Z"
    }
   },
   "cell_type": "code",
   "source": "",
   "outputs": [
    {
     "data": {
      "text/plain": [
       "array([[ 1.50966604, -2.55701263,  3.99014908, ..., -0.39555541,\n",
       "        -2.64748734,  1.74121915],\n",
       "       [-1.86558481, -3.02802475,  0.81425654, ...,  0.56491563,\n",
       "        -0.11521644,  4.61725621]])"
      ]
     },
     "execution_count": 6,
     "metadata": {},
     "output_type": "execute_result"
    }
   ],
   "execution_count": 6
  },
  {
   "cell_type": "markdown",
   "metadata": {},
   "source": [
    "#### 1.4.2 0-1 Loss and Empirical Risk\n",
    "* According to tutorial 2, we use the function $\\textrm{sign}\\left(\\frac{1}{1+\\exp(-X^{\\top}w)}-\\frac{1}{2}\\right)$ as a classifier. Here, $\\textrm{sign}(Z)=1$ if $Z\\geq 1$; otherwise, $\\textrm{sign}(Z)=-1$. This is equivalent to $\\textrm{sign}\\left(X^{\\top}w\\right)$ (Please check by yourself).\n",
    "\n",
    "\n",
    "* Note: For $\\textrm{sign}(Z)$, the particular choice of $\\textrm{sign}(0)$ is not important.\n",
    "\n",
    "\n",
    "* The 0-1 loss function is defined as $1\\left(Y\\neq \\textrm{sign}\\left(X^{\\top}w\\right)\\right)$ where $1(Z)=1$ if $Z$ is true; otherwise, $1(Z)=0$.\n",
    "\n",
    "** Exercise 1.4.1 **\n",
    "* Given the estimated parameters, compute the empirical risk."
   ]
  },
  {
   "cell_type": "code",
   "execution_count": 2,
   "metadata": {
    "collapsed": true
   },
   "outputs": [],
   "source": [
    "def empiricalRisk(X,Y,w):\n",
    "    \"\"\"Compute the empirical risk of hypothesis function with parameter w.\n",
    "    Input: \n",
    "       X: array, shape = [d, n]\n",
    "          The features. Here, d is the dimension of features, n is the sample size.\n",
    "       Y: array, shape = [n]\n",
    "          The labels.\n",
    "       w: array, shape = [d]\n",
    "          The parameter of the hypothesis function.\n",
    "    Output:\n",
    "       risk: real value\n",
    "          The empirical risk of this hypothesis function with parameter w.\n",
    "    \"\"\"\n",
    "    yPred = np.sign(np.dot(X,w))\n",
    "\n",
    "    errors = (yPred != Y)\n",
    "    risk = np.mean(errors)\n",
    "\n",
    "    return risk"
   ]
  },
  {
   "cell_type": "markdown",
   "metadata": {},
   "source": [
    "#### 1.4.2 Linear Logistic Regression\n",
    "** Exercise 1.4.2 **\n",
    "* Given the training data, estimate the parameters of hypothesis function by using gradient descent method."
   ]
  },
  {
   "metadata": {
    "ExecuteTime": {
     "end_time": "2025-09-01T13:53:03.403635Z",
     "start_time": "2025-09-01T13:53:03.398210Z"
    }
   },
   "cell_type": "code",
   "source": "",
   "outputs": [
    {
     "data": {
      "text/plain": [
       "(3,)"
      ]
     },
     "execution_count": 15,
     "metadata": {},
     "output_type": "execute_result"
    }
   ],
   "execution_count": 15
  },
  {
   "cell_type": "code",
   "metadata": {
    "collapsed": true,
    "ExecuteTime": {
     "end_time": "2025-09-01T13:02:20.019513Z",
     "start_time": "2025-09-01T13:02:20.003625Z"
    }
   },
   "source": [
    "def linearLR(X,Y,lr,maxiter,tol):\n",
    "    \"\"\"Estimate parameters of hypothesis function.\n",
    "    Input: \n",
    "       X: array, shape = [d, n]\n",
    "          The features. Here, d is the dimension of features, n is the sample size.\n",
    "       Y: array, shape = [n]\n",
    "          The labels.\n",
    "       lr: real value\n",
    "          The learning rate.\n",
    "       maxiter: int\n",
    "          The maximum number of iterations.\n",
    "       tol: real value.\n",
    "          The tolerance used for stopping the iterative process.\n",
    "    Output:\n",
    "       w: array, shape = [d]\n",
    "          The estimated parameters of hypothesis function.\n",
    "    \"\"\"\n",
    "    n = X.shape[1]\n",
    "    ones = np.ones((1, n))\n",
    "    X = np.vstack((ones, X))\n",
    "\n",
    "    d, n = X.shape\n",
    "    w = np.zeros(d)\n",
    "\n",
    "    for it in range(maxiter):\n",
    "        z = np.dot(X, w)\n",
    "        y_pred = 1 / (1 + np.exp(-z))\n",
    "        grad = (1 / n) * np.dot(X, (y_pred - Y))\n",
    "\n",
    "        w_new = w - lr * grad\n",
    "\n",
    "        if np.linalg.norm(w_new - w, ord=1) < tol:\n",
    "            print(f\"Converged at iteration {it}\")\n",
    "            w = w_new\n",
    "            break\n",
    "        w = w_new\n",
    "    return w"
   ],
   "outputs": [],
   "execution_count": 3
  },
  {
   "cell_type": "markdown",
   "metadata": {},
   "source": [
    ":#### 1.4.2 Approximation Error and Estimation Error\n",
    "* In this example, as mentioned above, the target concept is included in the predefined hypothesis function. Then the approximation error is 0. We mainly study the estimation error which is caused by the difference between $h_S$ and $h^*$.\n",
    "\n",
    "\n",
    "* Further, it is easy to see the expected risk $R(c)=R(h^*)=0$ because the target concept can correctly classify all data. Then, $R(h_S) - R(h^*) = R(h_S)$ which measures the estimation error. We can thus study whether the estimation error converges to 0 when the sample size increases to $+\\infty$ by using the term $R(h_S)$.\n",
    "\n",
    "\n",
    "\n",
    "* However, we have no knowledge of distribution $P(X,Y)$. Thus, in this example, we sample a large amount of data and use the empirical risk to approximate $R(h_S)$.\n",
    "\n",
    "\n",
    "** Exercise 1.4.3 **\n",
    "* Given training data with increasing sample sizes, study the convergence of the estimation error."
   ]
  },
  {
   "cell_type": "code",
   "execution_count": 4,
   "metadata": {},
   "outputs": [
    {
     "name": "stdout",
     "output_type": "stream",
     "text": [
      "Now we begin the estimation of sample size: 10\n"
     ]
    },
    {
     "ename": "NameError",
     "evalue": "name 'TODO' is not defined",
     "output_type": "error",
     "traceback": [
      "\u001B[0;31m---------------------------------------------------------------------------\u001B[0m",
      "\u001B[0;31mNameError\u001B[0m                                 Traceback (most recent call last)",
      "\u001B[0;32m<ipython-input-4-58b1c25cf707>\u001B[0m in \u001B[0;36m<module>\u001B[0;34m\u001B[0m\n\u001B[1;32m     11\u001B[0m \u001B[0;34m\u001B[0m\u001B[0m\n\u001B[1;32m     12\u001B[0m     \u001B[0;31m# estimate w and estimation error\u001B[0m\u001B[0;34m\u001B[0m\u001B[0;34m\u001B[0m\u001B[0;34m\u001B[0m\u001B[0m\n\u001B[0;32m---> 13\u001B[0;31m     \u001B[0mTODO\u001B[0m\u001B[0;34m\u001B[0m\u001B[0;34m\u001B[0m\u001B[0m\n\u001B[0m\u001B[1;32m     14\u001B[0m \u001B[0;34m\u001B[0m\u001B[0m\n\u001B[1;32m     15\u001B[0m     \u001B[0mrisk_list\u001B[0m\u001B[0;34m.\u001B[0m\u001B[0mappend\u001B[0m\u001B[0;34m(\u001B[0m\u001B[0mapprox_estimation_error\u001B[0m\u001B[0;34m)\u001B[0m\u001B[0;34m\u001B[0m\u001B[0;34m\u001B[0m\u001B[0m\n",
      "\u001B[0;31mNameError\u001B[0m: name 'TODO' is not defined"
     ]
    }
   ],
   "source": [
    "# sample size\n",
    "num = [10, 50, 100, 500, 1000, 5000, 10000]\n",
    "risk_list = []\n",
    "for n in num:\n",
    "    print('Now we begin the estimation of sample size: '+str(n))\n",
    "    arr = np.arange(nsample)\n",
    "    np.random.shuffle(arr)\n",
    "    arr = arr[:n]\n",
    "    new_X = X[:,arr]\n",
    "    new_Y = Y[arr]\n",
    "    \n",
    "    # estimate w and estimation error\n",
    "    TODO\n",
    "    \n",
    "    risk_list.append(approx_estimation_error)\n",
    "\n",
    "plt.plot(np.log10(num), risk_list, 'r--', np.log10(num), [0]*len(num),'b--')\n",
    "plt.xlabel('Log10 of Sample Size')\n",
    "plt.ylabel('Approximated Estimation Error')\n",
    "plt.show()\n",
    "print(risk_list)"
   ]
  },
  {
   "cell_type": "markdown",
   "metadata": {},
   "source": [
    "### 1.5 Case 2: Target Concept is Not in the Hypothesis Class\n",
    "* Second, we consider the case in which the target concept is not included in the predefined hypothesis class $\\mathcal{H}$. In this case, $h^*\\neq c$ and the approximation error will not be 0.\n",
    "\n",
    "** Example: **\n",
    "* Here, we use linear regression as an example.\n",
    "\n",
    "\n",
    "* We set the target concept as $y = x^2$ where $x \\in [0,1]$.\n",
    "\n",
    "\n",
    "* We assume the hypothesis function is linear; that is $h(x,\\beta_0,\\beta_1) = \\beta_0 x+\\beta_1$. Then, it is easy to see that the target concept is not included in the predefined hypothesis class. Therefore the approximation error is not 0."
   ]
  },
  {
   "cell_type": "markdown",
   "metadata": {},
   "source": [
    "#### 1.5.1 Visualization of the Training Data"
   ]
  },
  {
   "cell_type": "code",
   "metadata": {
    "collapsed": true,
    "ExecuteTime": {
     "end_time": "2025-09-01T15:59:42.624072Z",
     "start_time": "2025-09-01T15:59:41.999832Z"
    }
   },
   "source": [
    "import numpy as np\n",
    "import matplotlib.pyplot as plt\n",
    "%matplotlib inline \n",
    "\n",
    "nsample = 20000\n",
    "X = np.random.rand(nsample)\n",
    "Y = X*X\n",
    "print(X)\n",
    "\n",
    "# visualization of the training data\n",
    "plt.scatter(X,Y,c='r')\n",
    "plt.show()"
   ],
   "outputs": [
    {
     "name": "stdout",
     "output_type": "stream",
     "text": [
      "[0.5129131  0.98603581 0.11585063 ... 0.35936339 0.54184487 0.61798441]\n"
     ]
    },
    {
     "data": {
      "text/plain": [
       "<Figure size 640x480 with 1 Axes>"
      ],
      "image/png": "[encoded data removed]"
     },
     "metadata": {},
     "output_type": "display_data"
    },
    {
     "data": {
      "text/plain": [
       "array([0.5129131 , 0.98603581, 0.11585063, ..., 0.35936339, 0.54184487,\n",
       "       0.61798441])"
      ]
     },
     "execution_count": 1,
     "metadata": {},
     "output_type": "execute_result"
    }
   ],
   "execution_count": 1
  },
  {
   "cell_type": "markdown",
   "metadata": {},
   "source": [
    "#### 1.5.2 Square Loss and Empirical Risk\n",
    "* In linear regression, we exploit square loss to evaluate a hypothesis function; that is $\\ell(X,Y,h) = (Y-h(X))^2$."
   ]
  },
  {
   "cell_type": "markdown",
   "metadata": {},
   "source": [
    "**Exercise 1.5.1**\n",
    "* Given the training data and estimated paramters, compute the empirical risk.\n",
    "* $\\frac{\\partial RSS}{\\partial \\beta_0} = -2\\sum_{i=1}^n (y_i-\\beta_0 x_i - \\beta_1)x_i = 0$.\n",
    "* $\\frac{\\partial RSS}{\\partial \\beta_1} = -2\\sum_{i=1}^n (y_i-\\beta_0 x_i - \\beta_1) = 0$.\n",
    "* It is easy to derive that the minimizers are $\\hat{\\beta}_0 = \\frac{\\sum_{i=1}^n (x_i-\\bar{x})(y_i-\\bar{y})}{\\sum_{i=1}^n (x_i-\\bar{x})^2}$ and $\\hat{\\beta}_1=\\bar{y}-\\hat{\\beta}_0\\bar{x}$, where $\\bar{x}=\\frac{1}{n}\\sum_{i=1}^n x_i$ and $\\bar{y}=\\frac{1}{n}\\sum_{i=1}^n y_i$."
   ]
  },
  {
   "metadata": {
    "ExecuteTime": {
     "end_time": "2025-09-01T14:53:53.584220Z",
     "start_time": "2025-09-01T14:53:53.555104Z"
    }
   },
   "cell_type": "code",
   "source": [
    "n = X.shape[0]\n",
    "ones = np.ones((1, n))\n",
    "X_1 = np.vstack((ones, X))\n",
    "X_1.shape\n",
    "w = np.array([1, 2])\n",
    "w"
   ],
   "outputs": [
    {
     "data": {
      "text/plain": [
       "array([1, 2])"
      ]
     },
     "execution_count": 26,
     "metadata": {},
     "output_type": "execute_result"
    }
   ],
   "execution_count": 26
  },
  {
   "cell_type": "markdown",
   "metadata": {},
   "source": [
    "#### 1.5.3 Linear Regression\n",
    "** Exercise 1.5.2 **\n",
    "* Given the training data, estimate the parameters of hypothesis function by using least square method."
   ]
  },
  {
   "cell_type": "code",
   "metadata": {
    "collapsed": true,
    "ExecuteTime": {
     "end_time": "2025-09-01T15:29:31.518268Z",
     "start_time": "2025-09-01T15:29:31.507061Z"
    }
   },
   "source": [
    "def linearRegression(X,Y):\n",
    "    \"\"\"Estimate parameters of hypothesis function.\n",
    "    Input: \n",
    "       X: array, shape = [n]\n",
    "          The features. The feature is one dimensional.\n",
    "       Y: array, shape = [n]\n",
    "          The labels.\n",
    "    Output:\n",
    "       beta_0, beta_1: real values\n",
    "          The estimated parameters of hypothesis function.\n",
    "    \"\"\"\n",
    "    n = X.shape[0]\n",
    "    ones = np.ones((1, n))\n",
    "    X1 = np.vstack((ones, X))\n",
    "\n",
    "    beta = np.linalg.pinv(X1.T @ X1) @ (X1.T @ Y)\n",
    "\n",
    "# How to calculate the residual\n",
    "    Rss = np.linalg.norm(Y - X @ beta) ** 2\n",
    "    beta_0 = beta[0]\n",
    "    beta_1 = beta[1]\n",
    "    return beta_0, beta_1"
   ],
   "outputs": [],
   "execution_count": 27
  },
  {
   "cell_type": "markdown",
   "metadata": {},
   "source": [
    "#### 1.5.4 The Approximation Error and Estimation Error\n",
    "* In this example, we are able to compute the approximation error. Recall that the approximation error is measured by $R(h^*) - R(c)=R(h^*)$ because the target concept outputs the exact label for each feature and the corresponding expected risk $R(c)=0$.\n",
    "\n",
    "\n",
    "* We can minimze $R(h) = \\int_{0}^1 \\frac{1}{1-0} (x^2 - \\beta_0 x - \\beta_1)^2 dx = \\int_{0}^1 (x^2 - \\beta_0 x - \\beta_1)^2 dx$ to achieve the best hypothesis function $h^*$ in the linear hypothesis class. Then we can compute the approximation error $R(h^*)$.\n",
    "\n",
    "\n",
    "* Note that the data are assumed to be uniformly sampled from $[0,1]$ and the probability density function of $X$ is $p(X)=1$ if $0\\leq X\\leq 1$; otherwise $p(X)=0$."
   ]
  },
  {
   "cell_type": "markdown",
   "metadata": {},
   "source": [
    "** Exercise 1.5.3**\n",
    "* Compute the parameters of the best hypothesis function $h^*$ and the approximation error.\n",
    "\n",
    "\n",
    "* Hint: (1) The form of $R(h)$ can be first computed. We can obtain $R(h)=\\frac{1}{5}-\\frac{\\beta_0}{2}-\\frac{2\\beta_1}{3} + \\beta_0 \\beta_1 + \\frac{\\beta_0^2}{3} + \\beta_1^2$. The computation of integral can be found at https://en.wikipedia.org/wiki/Integral.\n",
    "\n",
    "* (2) Let the gradients of $R(h)$ with respect to $\\beta_0$ and $\\beta_1$ to be 0. We can find the parameters of the best hypothesis function. \n",
    "\n",
    "\n",
    "* The results are: $\\beta_{0}^*=1$, $\\beta_{1}^*=-\\frac{1}{6}$, and $R(h^*) = \\frac{1}{180}$."
   ]
  },
  {
   "cell_type": "markdown",
   "metadata": {},
   "source": [
    "** Exercise 1.5.4**\n",
    "* Increase the number of training examples from 10 to 1000 with step 10. Then show the relationship between the difference $R(h_S)-R(c)$ and sample size.\n",
    "\n",
    "\n",
    "* Note that $R(c) = 0$ because the target concept outputs the exact label for each feature.\n",
    "\n",
    "\n",
    "* Note that we use empirical risk to approximate $R(h_S)$ as in the example of linear logistic regression."
   ]
  },
  {
   "cell_type": "code",
   "metadata": {
    "collapsed": true,
    "ExecuteTime": {
     "end_time": "2025-09-01T15:54:44.687239Z",
     "start_time": "2025-09-01T15:54:44.569087Z"
    }
   },
   "source": [
    "def empiricalRiskSquareLoss(X, Y, beta_0, beta_1):\n",
    "    \"\"\"平方损失的经验风险\"\"\"\n",
    "    n = X.shape[0]\n",
    "    y_pred = beta_0 + beta_1 * X\n",
    "    risk = np.mean((y_pred - Y) ** 2)\n",
    "    return risk\n",
    "\n",
    "def linearRegression(X, Y):\n",
    "    \"\"\"最小二乘法直接解 β0, β1\"\"\"\n",
    "    n = X.shape[0]\n",
    "    ones = np.ones((n, 1))\n",
    "    X1 = np.hstack((ones, X.reshape(-1,1)))  # 拼接截距项\n",
    "    # 闭式解 (X^T X)^(-1) X^T y\n",
    "    beta = np.linalg.inv(X1.T @ X1) @ (X1.T @ Y)\n",
    "    beta_0, beta_1 = beta[0], beta[1]\n",
    "    return beta_0, beta_1\n",
    "\n",
    "num = range(10, 1000, 10)\n",
    "risk_list = []\n",
    "\n",
    "for n in num:\n",
    "    arr = np.arange(nsample)\n",
    "    np.random.shuffle(arr)\n",
    "    arr = arr[:n]\n",
    "    new_X = X[arr]\n",
    "    new_Y = Y[arr]\n",
    "\n",
    "    # 1. 拟合参数\n",
    "    beta_0, beta_1 = linearRegression(new_X, new_Y)\n",
    "\n",
    "    # 2. 计算经验风险\n",
    "    risk = empiricalRiskSquareLoss(new_X, new_Y, beta_0, beta_1)\n",
    "    risk_list.append(risk)\n",
    "plt.plot(num,risk_list,'r--', num, [1.0/180]*len(num), 'b--')\n",
    "plt.xlabel('Sample Size')\n",
    "plt.ylabel('Empirical Risk')\n",
    "plt.show()"
   ],
   "outputs": [
    {
     "data": {
      "text/plain": [
       "<Figure size 640x480 with 1 Axes>"
      ],
      "image/png": "[encoded data removed]"
     },
     "metadata": {},
     "output_type": "display_data"
    }
   ],
   "execution_count": 28
  },
  {
   "cell_type": "markdown",
   "metadata": {
    "collapsed": true
   },
   "source": [
    "** Remark **\n",
    "* We can see the empirical risk converges to $R(h^*)$ but will never approach to 0 because the target concept is not included in the predefined hypothesis function."
   ]
  }
 ],
 "metadata": {
  "kernelspec": {
   "display_name": "Python [default]",
   "language": "python",
   "name": "python3"
  },
  "language_info": {
   "codemirror_mode": {
    "name": "ipython",
    "version": 3
   },
   "file_extension": ".py",
   "mimetype": "text/x-python",
   "name": "python",
   "nbconvert_exporter": "python",
   "pygments_lexer": "ipython3",
   "version": "3.6.5"
  }
 },
 "nbformat": 4,
 "nbformat_minor": 1
}
